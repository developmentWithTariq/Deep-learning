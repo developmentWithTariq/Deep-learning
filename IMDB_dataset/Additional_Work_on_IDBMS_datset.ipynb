{
  "nbformat": 4,
  "nbformat_minor": 0,
  "metadata": {
    "colab": {
      "name": "Additional Work on IDBMS datset ",
      "provenance": [],
      "collapsed_sections": [],
      "include_colab_link": true
    },
    "kernelspec": {
      "name": "python3",
      "display_name": "Python 3"
    }
  },
  "cells": [
    {
      "cell_type": "markdown",
      "metadata": {
        "id": "view-in-github",
        "colab_type": "text"
      },
      "source": [
        "<a href=\"https://colab.research.google.com/github/Tariq15994/Deep-learning/blob/master/Additional_Work_on_IDBMS_datset.ipynb\" target=\"_parent\"><img src=\"https://colab.research.google.com/assets/colab-badge.svg\" alt=\"Open In Colab\"/></a>"
      ]
    },
    {
      "cell_type": "markdown",
      "metadata": {
        "id": "yNFAr_ZYn1wE",
        "colab_type": "text"
      },
      "source": [
        "**Additional work on imbd dataset**"
      ]
    },
    {
      "cell_type": "code",
      "metadata": {
        "id": "E3uSvx8gnvHK",
        "colab_type": "code",
        "outputId": "2bf28f4c-9d66-4b9e-f821-5b2fb7fccbb3",
        "colab": {
          "base_uri": "https://localhost:8080/",
          "height": 65
        }
      },
      "source": [
        "import tensorflow"
      ],
      "execution_count": 0,
      "outputs": [
        {
          "output_type": "display_data",
          "data": {
            "text/html": [
              "<p style=\"color: red;\">\n",
              "The default version of TensorFlow in Colab will soon switch to TensorFlow 2.x.<br>\n",
              "We recommend you <a href=\"https://www.tensorflow.org/guide/migrate\" target=\"_blank\">upgrade</a> now \n",
              "or ensure your notebook will continue to use TensorFlow 1.x via the <code>%tensorflow_version 1.x</code> magic:\n",
              "<a href=\"https://colab.research.google.com/notebooks/tensorflow_version.ipynb\" target=\"_blank\">more info</a>.</p>\n"
            ],
            "text/plain": [
              "<IPython.core.display.HTML object>"
            ]
          },
          "metadata": {
            "tags": []
          }
        }
      ]
    },
    {
      "cell_type": "markdown",
      "metadata": {
        "id": "FlG9kXZfzFOk",
        "colab_type": "text"
      },
      "source": [
        ""
      ]
    },
    {
      "cell_type": "code",
      "metadata": {
        "id": "UoAI1JJxwy6E",
        "colab_type": "code",
        "outputId": "81320ed3-c2c2-4062-ef06-3040669cfe25",
        "colab": {
          "base_uri": "https://localhost:8080/",
          "height": 54
        }
      },
      "source": [
        "from tensorflow.keras.datasets import imdb\n",
        "(train_data, train_labels), (test_data, test_labels) = imdb.load_data(\n",
        "num_words=10000)"
      ],
      "execution_count": 0,
      "outputs": [
        {
          "output_type": "stream",
          "text": [
            "Downloading data from https://storage.googleapis.com/tensorflow/tf-keras-datasets/imdb.npz\n",
            "17465344/17464789 [==============================] - 1s 0us/step\n"
          ],
          "name": "stdout"
        }
      ]
    },
    {
      "cell_type": "code",
      "metadata": {
        "id": "8e8IkdVEzGq0",
        "colab_type": "code",
        "outputId": "5b1a7001-b80f-4b2e-e34a-27067d6cfec7",
        "colab": {
          "base_uri": "https://localhost:8080/",
          "height": 74
        }
      },
      "source": [
        "print(train_data[0])\n",
        "\n",
        "train_labels[0]\n"
      ],
      "execution_count": 0,
      "outputs": [
        {
          "output_type": "stream",
          "text": [
            "[1, 14, 22, 16, 43, 530, 973, 1622, 1385, 65, 458, 4468, 66, 3941, 4, 173, 36, 256, 5, 25, 100, 43, 838, 112, 50, 670, 2, 9, 35, 480, 284, 5, 150, 4, 172, 112, 167, 2, 336, 385, 39, 4, 172, 4536, 1111, 17, 546, 38, 13, 447, 4, 192, 50, 16, 6, 147, 2025, 19, 14, 22, 4, 1920, 4613, 469, 4, 22, 71, 87, 12, 16, 43, 530, 38, 76, 15, 13, 1247, 4, 22, 17, 515, 17, 12, 16, 626, 18, 2, 5, 62, 386, 12, 8, 316, 8, 106, 5, 4, 2223, 5244, 16, 480, 66, 3785, 33, 4, 130, 12, 16, 38, 619, 5, 25, 124, 51, 36, 135, 48, 25, 1415, 33, 6, 22, 12, 215, 28, 77, 52, 5, 14, 407, 16, 82, 2, 8, 4, 107, 117, 5952, 15, 256, 4, 2, 7, 3766, 5, 723, 36, 71, 43, 530, 476, 26, 400, 317, 46, 7, 4, 2, 1029, 13, 104, 88, 4, 381, 15, 297, 98, 32, 2071, 56, 26, 141, 6, 194, 7486, 18, 4, 226, 22, 21, 134, 476, 26, 480, 5, 144, 30, 5535, 18, 51, 36, 28, 224, 92, 25, 104, 4, 226, 65, 16, 38, 1334, 88, 12, 16, 283, 5, 16, 4472, 113, 103, 32, 15, 16, 5345, 19, 178, 32]\n"
          ],
          "name": "stdout"
        },
        {
          "output_type": "execute_result",
          "data": {
            "text/plain": [
              "1"
            ]
          },
          "metadata": {
            "tags": []
          },
          "execution_count": 4
        }
      ]
    },
    {
      "cell_type": "code",
      "metadata": {
        "id": "tY8PGqVEw0VU",
        "colab_type": "code",
        "colab": {}
      },
      "source": [
        "import numpy as np\n",
        "def vectorize_sequences(sequences, dimension=10000):\n",
        "  results = np.zeros((len(sequences), dimension))\n",
        "  for i, sequence in enumerate(sequences):\n",
        "    results[i, sequence] = 1.\n",
        "  return results\n",
        "x_train = vectorize_sequences(train_data)\n",
        "x_test = vectorize_sequences(test_data)"
      ],
      "execution_count": 0,
      "outputs": []
    },
    {
      "cell_type": "code",
      "metadata": {
        "id": "Bsdhmyfqw0Dc",
        "colab_type": "code",
        "colab": {}
      },
      "source": [
        ""
      ],
      "execution_count": 0,
      "outputs": []
    },
    {
      "cell_type": "code",
      "metadata": {
        "id": "dxzzaOheDzX2",
        "colab_type": "code",
        "colab": {}
      },
      "source": [
        "\n"
      ],
      "execution_count": 0,
      "outputs": []
    },
    {
      "cell_type": "markdown",
      "metadata": {
        "id": "DomUGZShoTz6",
        "colab_type": "text"
      },
      "source": [
        "The following experiments will help convince you that the architecture choices you’ve\n",
        "made are all fairly reasonable, although there’s still room for improvement:\n",
        " You used two hidden layers. Try using one or three hidden layers, and see how\n",
        "doing so affects validation and test accuracy.\n",
        " Try using layers with more hidden units or fewer hidden units: 32 units, 64 units,\n",
        "and so on.\n",
        " Try using the mse loss function instead of binary_crossentropy.\n",
        " Try using the tanh activation (an activation that was popular in the early days of\n",
        "neural networks) instead of relu."
      ]
    },
    {
      "cell_type": "code",
      "metadata": {
        "id": "uc9ShO3IDzWy",
        "colab_type": "code",
        "colab": {}
      },
      "source": [
        "\n",
        "y_train = np.asarray(train_labels).astype('float32')\n",
        "y_test = np.asarray(test_labels).astype('float32')\n"
      ],
      "execution_count": 0,
      "outputs": []
    },
    {
      "cell_type": "code",
      "metadata": {
        "id": "FcOpDzbRDzUP",
        "colab_type": "code",
        "colab": {}
      },
      "source": [
        "from tensorflow.keras import models\n",
        "from tensorflow.keras import layers\n",
        "model = models.Sequential()\n",
        "model.add(layers.Dense(32, activation='relu', input_shape=(10000,)))\n",
        "model.add(layers.Dense(32, activation='relu'))\n",
        "model.add(layers.Dense(1, activation='sigmoid'))"
      ],
      "execution_count": 0,
      "outputs": []
    },
    {
      "cell_type": "markdown",
      "metadata": {
        "id": "YYCcbHaetnWD",
        "colab_type": "text"
      },
      "source": [
        ""
      ]
    },
    {
      "cell_type": "code",
      "metadata": {
        "id": "nqQbQwGbDzRe",
        "colab_type": "code",
        "colab": {}
      },
      "source": [
        ""
      ],
      "execution_count": 0,
      "outputs": []
    },
    {
      "cell_type": "code",
      "metadata": {
        "id": "oFG7j1wbDzPW",
        "colab_type": "code",
        "colab": {}
      },
      "source": [
        "x_val = x_train[:10000]\n",
        "partial_x_train = x_train[10000:]\n",
        "y_val = y_train[:10000]\n",
        "partial_y_train = y_train[10000:]"
      ],
      "execution_count": 0,
      "outputs": []
    },
    {
      "cell_type": "code",
      "metadata": {
        "id": "LsBspUergTmf",
        "colab_type": "code",
        "outputId": "fd842694-880a-46ee-99a5-09164f8f4238",
        "colab": {
          "base_uri": "https://localhost:8080/",
          "height": 399
        }
      },
      "source": [
        "model.compile(optimizer='adam',\n",
        "loss='binary_crossentropy',\n",
        "metrics=['acc'])\n",
        "history = model.fit(partial_x_train,partial_y_train,epochs=10,batch_size=512,validation_data=(x_val, y_val))\n"
      ],
      "execution_count": 0,
      "outputs": [
        {
          "output_type": "stream",
          "text": [
            "Train on 15000 samples, validate on 10000 samples\n",
            "Epoch 1/10\n",
            "15000/15000 [==============================] - 2s 122us/sample - loss: 0.5213 - acc: 0.7813 - val_loss: 0.3497 - val_acc: 0.8677\n",
            "Epoch 2/10\n",
            "15000/15000 [==============================] - 1s 97us/sample - loss: 0.2475 - acc: 0.9119 - val_loss: 0.2766 - val_acc: 0.8883\n",
            "Epoch 3/10\n",
            "15000/15000 [==============================] - 1s 100us/sample - loss: 0.1570 - acc: 0.9455 - val_loss: 0.2868 - val_acc: 0.8843\n",
            "Epoch 4/10\n",
            "15000/15000 [==============================] - 1s 97us/sample - loss: 0.1070 - acc: 0.9674 - val_loss: 0.3172 - val_acc: 0.8828\n",
            "Epoch 5/10\n",
            "15000/15000 [==============================] - 1s 98us/sample - loss: 0.0764 - acc: 0.9801 - val_loss: 0.3517 - val_acc: 0.8775\n",
            "Epoch 6/10\n",
            "15000/15000 [==============================] - 1s 95us/sample - loss: 0.0500 - acc: 0.9901 - val_loss: 0.3941 - val_acc: 0.8751\n",
            "Epoch 7/10\n",
            "15000/15000 [==============================] - 1s 95us/sample - loss: 0.0316 - acc: 0.9953 - val_loss: 0.4365 - val_acc: 0.8736\n",
            "Epoch 8/10\n",
            "15000/15000 [==============================] - 1s 97us/sample - loss: 0.0205 - acc: 0.9989 - val_loss: 0.4849 - val_acc: 0.8696\n",
            "Epoch 9/10\n",
            "15000/15000 [==============================] - 1s 95us/sample - loss: 0.0138 - acc: 0.9996 - val_loss: 0.5180 - val_acc: 0.8702\n",
            "Epoch 10/10\n",
            "15000/15000 [==============================] - 1s 93us/sample - loss: 0.0092 - acc: 0.9998 - val_loss: 0.5506 - val_acc: 0.8693\n"
          ],
          "name": "stdout"
        }
      ]
    },
    {
      "cell_type": "code",
      "metadata": {
        "id": "yOLXxxI-pG9o",
        "colab_type": "code",
        "outputId": "38128655-80ee-4cdd-ed00-cc66e404e54e",
        "colab": {
          "base_uri": "https://localhost:8080/",
          "height": 35
        }
      },
      "source": [
        "history_dict = history.history\n",
        "history_dict.keys()\n",
        "[u'acc', u'loss', u'val_acc', u'val_loss']"
      ],
      "execution_count": 0,
      "outputs": [
        {
          "output_type": "execute_result",
          "data": {
            "text/plain": [
              "['acc', 'loss', 'val_acc', 'val_loss']"
            ]
          },
          "metadata": {
            "tags": []
          },
          "execution_count": 58
        }
      ]
    },
    {
      "cell_type": "code",
      "metadata": {
        "id": "Gpdx4l5QpVi3",
        "colab_type": "code",
        "outputId": "0c43d337-2cc5-49f2-e317-2ac1a4d026c0",
        "colab": {
          "base_uri": "https://localhost:8080/",
          "height": 295
        }
      },
      "source": [
        "import matplotlib.pyplot as plt\n",
        "history_dict = history.history\n",
        "loss_values = history_dict['loss']\n",
        "val_loss_values = history_dict['val_loss']\n",
        "epochs = range(1, len(val_loss_values) + 1)\n",
        "plt.plot(epochs, loss_values, 'bo', label='Training loss')\n",
        "plt.plot(epochs, val_loss_values, 'b-', label='Validation loss')\n",
        "plt.title('Training and validation loss')\n",
        "plt.xlabel('Epochs')\n",
        "plt.ylabel('Loss')\n",
        "plt.legend()\n",
        "plt.show()"
      ],
      "execution_count": 0,
      "outputs": [
        {
          "output_type": "display_data",
          "data": {
            "image/png": "[encoded data removed]",
            "text/plain": [
              "<Figure size 432x288 with 1 Axes>"
            ]
          },
          "metadata": {
            "tags": []
          }
        }
      ]
    },
    {
      "cell_type": "code",
      "metadata": {
        "id": "I8ovRJERyWVK",
        "colab_type": "code",
        "outputId": "b9712f9e-74d2-4877-9dec-ff238addd53c",
        "colab": {
          "base_uri": "https://localhost:8080/",
          "height": 295
        }
      },
      "source": [
        " #Plotting the training and validation accuracy\n",
        "plt.clf()\n",
        "acc_values = history_dict['loss']\n",
        "val_acc_values = history_dict['val_acc']\n",
        "plt.plot(epochs, acc_values, 'bo', label='Training acc')\n",
        "plt.plot(epochs, val_acc_values, 'b', label='Validation acc')\n",
        "plt.title('Training and validation accuracy')\n",
        "plt.xlabel('Epochs')\n",
        "plt.ylabel('acc')\n",
        "plt.legend()\n",
        "plt.show()"
      ],
      "execution_count": 0,
      "outputs": [
        {
          "output_type": "display_data",
          "data": {
            "image/png": "[encoded data removed]",
            "text/plain": [
              "<Figure size 432x288 with 1 Axes>"
            ]
          },
          "metadata": {
            "tags": []
          }
        }
      ]
    },
    {
      "cell_type": "markdown",
      "metadata": {
        "id": "_94wqP4axCHZ",
        "colab_type": "text"
      },
      "source": [
        "***Try using one or three hidden layers, and see how doing so affects validation and test accuracy.  Try using layers with more hidden units or fewer hidden units: 32 units, 64 units, and so on***"
      ]
    },
    {
      "cell_type": "code",
      "metadata": {
        "id": "7sNY5RgalA3m",
        "colab_type": "code",
        "outputId": "0f983049-1a26-4f4f-f6fe-00598f3321cc",
        "colab": {
          "base_uri": "https://localhost:8080/",
          "height": 126
        }
      },
      "source": [
        "model = models.Sequential()\n",
        "model.add(layers.Dense(16, activation='relu', input_shape=(10000,)))\n",
        "model.add(layers.Dense(16, activation='relu'))\n",
        "model.add(layers.Dense(1, activation='sigmoid'))\n",
        "model.compile(optimizer='adam',\n",
        "loss='binary_crossentropy',\n",
        "metrics=['accuracy'])\n",
        "model.fit(x_train, y_train, epochs=2, batch_size=512,validation_data=(x_val, y_val))\n"
      ],
      "execution_count": 0,
      "outputs": [
        {
          "output_type": "stream",
          "text": [
            "Train on 25000 samples, validate on 10000 samples\n",
            "Epoch 1/2\n",
            "25000/25000 [==============================] - 2s 95us/sample - loss: 0.4590 - acc: 0.8114 - val_loss: 0.2659 - val_acc: 0.9127\n",
            "Epoch 2/2\n",
            "25000/25000 [==============================] - 2s 79us/sample - loss: 0.2354 - acc: 0.9166 - val_loss: 0.1758 - val_acc: 0.9434\n"
          ],
          "name": "stdout"
        },
        {
          "output_type": "execute_result",
          "data": {
            "text/plain": [
              "<tensorflow.python.keras.callbacks.History at 0x7f5b8c921fd0>"
            ]
          },
          "metadata": {
            "tags": []
          },
          "execution_count": 61
        }
      ]
    },
    {
      "cell_type": "code",
      "metadata": {
        "id": "w0JzkITTvpLu",
        "colab_type": "code",
        "outputId": "3ea0e036-b2ff-475b-d2e2-46f6c7ff9456",
        "colab": {
          "base_uri": "https://localhost:8080/",
          "height": 35
        }
      },
      "source": [
        "results = model.evaluate(x_test, y_test)"
      ],
      "execution_count": 0,
      "outputs": [
        {
          "output_type": "stream",
          "text": [
            "25000/25000 [==============================] - 2s 71us/sample - loss: 0.2826 - acc: 0.8866\n"
          ],
          "name": "stdout"
        }
      ]
    },
    {
      "cell_type": "code",
      "metadata": {
        "id": "P6UOEBKZt8k7",
        "colab_type": "code",
        "outputId": "974c6fbb-2d6d-4bb0-fe56-6c97e55329e0",
        "colab": {
          "base_uri": "https://localhost:8080/",
          "height": 490
        }
      },
      "source": [
        "model=models.Sequential()\n",
        "model.add(layers.Dense(512,activation=\"relu\",input_shape=(10000,)))\n",
        "model.add(layers.Dense(16,activation=\"relu\"))\n",
        "model.add(layers.Dense(1,activation=\"sigmoid\"))\n",
        "model.compile(optimizer=\"rmsprop\",\n",
        "              loss=\"binary_crossentropy\",\n",
        "              metrics=[\"accuracy\"])\n",
        "model.fit(partial_x_train,partial_y_train,epochs=12,batch_size=128)"
      ],
      "execution_count": 0,
      "outputs": [
        {
          "output_type": "stream",
          "text": [
            "Train on 15000 samples\n",
            "Epoch 1/12\n",
            "15000/15000 [==============================] - 10s 698us/sample - loss: 0.6932 - acc: 0.5007\n",
            "Epoch 2/12\n",
            "15000/15000 [==============================] - 10s 679us/sample - loss: 0.6931 - acc: 0.5035\n",
            "Epoch 3/12\n",
            "15000/15000 [==============================] - 10s 683us/sample - loss: 0.6931 - acc: 0.5030\n",
            "Epoch 4/12\n",
            "15000/15000 [==============================] - 10s 687us/sample - loss: 0.6931 - acc: 0.5035\n",
            "Epoch 5/12\n",
            "15000/15000 [==============================] - 10s 686us/sample - loss: 0.6931 - acc: 0.5035\n",
            "Epoch 6/12\n",
            "15000/15000 [==============================] - 10s 681us/sample - loss: 0.6931 - acc: 0.5035\n",
            "Epoch 7/12\n",
            "15000/15000 [==============================] - 10s 680us/sample - loss: 0.6931 - acc: 0.5035\n",
            "Epoch 8/12\n",
            "15000/15000 [==============================] - 10s 676us/sample - loss: 0.6931 - acc: 0.5035\n",
            "Epoch 9/12\n",
            "15000/15000 [==============================] - 10s 677us/sample - loss: 0.6931 - acc: 0.5035\n",
            "Epoch 10/12\n",
            "15000/15000 [==============================] - 10s 677us/sample - loss: 0.6931 - acc: 0.5035\n",
            "Epoch 11/12\n",
            "15000/15000 [==============================] - 10s 677us/sample - loss: 0.6931 - acc: 0.5035\n",
            "Epoch 12/12\n",
            "15000/15000 [==============================] - 10s 679us/sample - loss: 0.6931 - acc: 0.5035\n"
          ],
          "name": "stdout"
        },
        {
          "output_type": "execute_result",
          "data": {
            "text/plain": [
              "<tensorflow.python.keras.callbacks.History at 0x7f258ca09cf8>"
            ]
          },
          "metadata": {
            "tags": []
          },
          "execution_count": 38
        }
      ]
    },
    {
      "cell_type": "code",
      "metadata": {
        "id": "BnYu2V5DwCBD",
        "colab_type": "code",
        "outputId": "08b144e9-edfc-4fa0-9f28-8f9ff7e5930e",
        "colab": {
          "base_uri": "https://localhost:8080/",
          "height": 35
        }
      },
      "source": [
        "results = model.evaluate(x_test, y_test)"
      ],
      "execution_count": 0,
      "outputs": [
        {
          "output_type": "stream",
          "text": [
            "25000/25000 [==============================] - 2s 79us/sample - loss: 1.5099 - acc: 0.8519\n"
          ],
          "name": "stdout"
        }
      ]
    },
    {
      "cell_type": "code",
      "metadata": {
        "id": "sxNYB-XNxMcu",
        "colab_type": "code",
        "outputId": "57b89a62-f118-4f06-8b7f-094b06b6196d",
        "colab": {
          "base_uri": "https://localhost:8080/",
          "height": 72
        }
      },
      "source": [
        "model=models.Sequential()\n",
        "model.add(layers.Dense(64,activation=\"relu\",input_shape=(10000,)))\n",
        "model.add(layers.Dense(64,activation=\"relu\"))\n",
        "model.add(layers.Dense(1,activation=\"sigmoid\"))\n",
        "model.compile(optimizer=\"rmsprop\",\n",
        "              loss=\"binary_crossentropy\",\n",
        "              metrics=[\"accuracy\"])\n",
        "model.fit(partial_x_train,partial_y_train,epochs=1,batch_size=128,validation_data=(x_val, y_val))"
      ],
      "execution_count": 0,
      "outputs": [
        {
          "output_type": "stream",
          "text": [
            "Train on 15000 samples, validate on 10000 samples\n",
            "15000/15000 [==============================] - 3s 190us/sample - loss: 0.3663 - acc: 0.8449 - val_loss: 0.2917 - val_acc: 0.8831\n"
          ],
          "name": "stdout"
        },
        {
          "output_type": "execute_result",
          "data": {
            "text/plain": [
              "<tensorflow.python.keras.callbacks.History at 0x7f5b8be3dc18>"
            ]
          },
          "metadata": {
            "tags": []
          },
          "execution_count": 67
        }
      ]
    },
    {
      "cell_type": "code",
      "metadata": {
        "id": "kitzfp_jx3c-",
        "colab_type": "code",
        "outputId": "fc248e4d-48ac-4a8d-dc4a-6f8f5234fa9c",
        "colab": {
          "base_uri": "https://localhost:8080/",
          "height": 35
        }
      },
      "source": [
        "results = model.evaluate(x_test, y_test)"
      ],
      "execution_count": 0,
      "outputs": [
        {
          "output_type": "stream",
          "text": [
            "25000/25000 [==============================] - 2s 88us/sample - loss: 0.3115 - acc: 0.8746\n"
          ],
          "name": "stdout"
        }
      ]
    },
    {
      "cell_type": "code",
      "metadata": {
        "id": "8nw6SreyydvA",
        "colab_type": "code",
        "colab": {}
      },
      "source": [
        ""
      ],
      "execution_count": 0,
      "outputs": []
    },
    {
      "cell_type": "markdown",
      "metadata": {
        "id": "_b9TQdsfym_l",
        "colab_type": "text"
      },
      "source": [
        "Try using the mse loss function instead of binary_crossentropy.  Try using the tanh activation (an activation that was popular in the early days of neural networks) instead of relu."
      ]
    },
    {
      "cell_type": "code",
      "metadata": {
        "id": "us8AnONtypbR",
        "colab_type": "code",
        "outputId": "6229d3d9-56f3-4fdd-d28c-176b876d0781",
        "colab": {
          "base_uri": "https://localhost:8080/",
          "height": 72
        }
      },
      "source": [
        "model=models.Sequential()\n",
        "model.add(layers.Dense(64,activation=\"tanh\",input_shape=(10000,)))\n",
        "model.add(layers.Dense(64,activation=\"tanh\"))\n",
        "model.add(layers.Dense(1,activation=\"sigmoid\"))\n",
        "model.compile(optimizer=\"rmsprop\",\n",
        "              loss=\"mse\",\n",
        "              metrics=[\"accuracy\"])\n",
        "model.fit(partial_x_train,partial_y_train,epochs=1,batch_size=512,validation_data=(x_val, y_val))"
      ],
      "execution_count": 0,
      "outputs": [
        {
          "output_type": "stream",
          "text": [
            "Train on 15000 samples, validate on 10000 samples\n",
            "15000/15000 [==============================] - 3s 169us/sample - loss: 0.1524 - acc: 0.7823 - val_loss: 0.0900 - val_acc: 0.8820\n"
          ],
          "name": "stdout"
        },
        {
          "output_type": "execute_result",
          "data": {
            "text/plain": [
              "<tensorflow.python.keras.callbacks.History at 0x7f5b746e4ef0>"
            ]
          },
          "metadata": {
            "tags": []
          },
          "execution_count": 82
        }
      ]
    },
    {
      "cell_type": "code",
      "metadata": {
        "id": "zUGzGkVay2MH",
        "colab_type": "code",
        "outputId": "1315a95e-b8ed-4864-c728-0010cfe319f2",
        "colab": {
          "base_uri": "https://localhost:8080/",
          "height": 35
        }
      },
      "source": [
        "result=model.evaluate(x_test,y_test)"
      ],
      "execution_count": 0,
      "outputs": [
        {
          "output_type": "stream",
          "text": [
            "25000/25000 [==============================] - 2s 94us/sample - loss: 0.0964 - acc: 0.8737\n"
          ],
          "name": "stdout"
        }
      ]
    },
    {
      "cell_type": "markdown",
      "metadata": {
        "id": "lV5OS29i1EKE",
        "colab_type": "text"
      },
      "source": [
        "just change loss function"
      ]
    },
    {
      "cell_type": "code",
      "metadata": {
        "id": "8pn_-axM0JYJ",
        "colab_type": "code",
        "outputId": "25800e62-244c-4209-e1b0-2235aa13bce7",
        "colab": {
          "base_uri": "https://localhost:8080/",
          "height": 199
        }
      },
      "source": [
        "modell=models.Sequential()\n",
        "modell.add(layers.Dense(64,activation=\"relu\",input_shape=(10000,)))\n",
        "modell.add(layers.Dense(64,activation=\"relu\"))\n",
        "modell.add(layers.Dense(1,activation=\"sigmoid\"))\n",
        "modell.compile(optimizer=\"rmsprop\",\n",
        "              loss=\"mse\",\n",
        "              metrics=[\"accuracy\"])\n",
        "modell.fit(partial_x_train,partial_y_train,epochs=4,batch_size=512,validation_data=(x_val, y_val))"
      ],
      "execution_count": 0,
      "outputs": [
        {
          "output_type": "stream",
          "text": [
            "Train on 15000 samples, validate on 10000 samples\n",
            "Epoch 1/4\n",
            "15000/15000 [==============================] - 3s 176us/sample - loss: 0.1574 - acc: 0.7694 - val_loss: 0.1185 - val_acc: 0.8384\n",
            "Epoch 2/4\n",
            "15000/15000 [==============================] - 2s 120us/sample - loss: 0.0769 - acc: 0.9042 - val_loss: 0.0937 - val_acc: 0.8727\n",
            "Epoch 3/4\n",
            "15000/15000 [==============================] - 2s 118us/sample - loss: 0.0512 - acc: 0.9361 - val_loss: 0.0849 - val_acc: 0.8845\n",
            "Epoch 4/4\n",
            "15000/15000 [==============================] - 2s 120us/sample - loss: 0.0394 - acc: 0.9515 - val_loss: 0.0854 - val_acc: 0.8856\n"
          ],
          "name": "stdout"
        },
        {
          "output_type": "execute_result",
          "data": {
            "text/plain": [
              "<tensorflow.python.keras.callbacks.History at 0x7f5b74180748>"
            ]
          },
          "metadata": {
            "tags": []
          },
          "execution_count": 95
        }
      ]
    },
    {
      "cell_type": "code",
      "metadata": {
        "id": "lLeTQON907Ik",
        "colab_type": "code",
        "outputId": "3fd769ce-f359-4e8f-ced3-73f8c9980d6c",
        "colab": {
          "base_uri": "https://localhost:8080/",
          "height": 35
        }
      },
      "source": [
        "result=modell.evaluate(x_test,y_test)\n"
      ],
      "execution_count": 0,
      "outputs": [
        {
          "output_type": "stream",
          "text": [
            "25000/25000 [==============================] - 2s 91us/sample - loss: 0.0923 - acc: 0.8742\n"
          ],
          "name": "stdout"
        }
      ]
    },
    {
      "cell_type": "markdown",
      "metadata": {
        "id": "2-RvnuD112uX",
        "colab_type": "text"
      },
      "source": [
        "just change activation function"
      ]
    },
    {
      "cell_type": "code",
      "metadata": {
        "id": "_UQ8sNYb1TrO",
        "colab_type": "code",
        "outputId": "3a27927b-1958-410c-a4f7-54d8629989a1",
        "colab": {
          "base_uri": "https://localhost:8080/",
          "height": 199
        }
      },
      "source": [
        "modell=models.Sequential()\n",
        "modell.add(layers.Dense(64,activation=\"tanh\",input_shape=(10000,)))\n",
        "modell.add(layers.Dense(64,activation=\"tanh\"))\n",
        "modell.add(layers.Dense(1,activation=\"sigmoid\"))\n",
        "modell.compile(optimizer=\"rmsprop\",\n",
        "              loss=\"binary_crossentropy\",\n",
        "              metrics=[\"accuracy\"])\n",
        "modell.fit(partial_x_train,partial_y_train,epochs=4,batch_size=512,validation_data=(x_val, y_val))"
      ],
      "execution_count": 0,
      "outputs": [
        {
          "output_type": "stream",
          "text": [
            "Train on 15000 samples, validate on 10000 samples\n",
            "Epoch 1/4\n",
            "15000/15000 [==============================] - 3s 193us/sample - loss: 0.4707 - acc: 0.7865 - val_loss: 0.3152 - val_acc: 0.8735\n",
            "Epoch 2/4\n",
            "15000/15000 [==============================] - 2s 123us/sample - loss: 0.2345 - acc: 0.9111 - val_loss: 0.3139 - val_acc: 0.8719\n",
            "Epoch 3/4\n",
            "15000/15000 [==============================] - 2s 125us/sample - loss: 0.1675 - acc: 0.9364 - val_loss: 0.3109 - val_acc: 0.8782\n",
            "Epoch 4/4\n",
            "15000/15000 [==============================] - 2s 130us/sample - loss: 0.1412 - acc: 0.9443 - val_loss: 0.3211 - val_acc: 0.8825\n"
          ],
          "name": "stdout"
        },
        {
          "output_type": "execute_result",
          "data": {
            "text/plain": [
              "<tensorflow.python.keras.callbacks.History at 0x7f5b73aaad68>"
            ]
          },
          "metadata": {
            "tags": []
          },
          "execution_count": 107
        }
      ]
    },
    {
      "cell_type": "code",
      "metadata": {
        "id": "sIFqanSK2R9C",
        "colab_type": "code",
        "outputId": "18b99960-e269-4ba1-8350-9cc3105d87c3",
        "colab": {
          "base_uri": "https://localhost:8080/",
          "height": 35
        }
      },
      "source": [
        "result=modell.evaluate(x_test,y_test)"
      ],
      "execution_count": 0,
      "outputs": [
        {
          "output_type": "stream",
          "text": [
            "25000/25000 [==============================] - 2s 98us/sample - loss: 0.3504 - acc: 0.8708\n"
          ],
          "name": "stdout"
        }
      ]
    },
    {
      "cell_type": "code",
      "metadata": {
        "id": "_btwDqDO21Gx",
        "colab_type": "code",
        "colab": {}
      },
      "source": [
        ""
      ],
      "execution_count": 0,
      "outputs": []
    }
  ]
}