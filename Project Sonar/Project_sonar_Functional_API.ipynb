{
 "cells": [
  {
   "cell_type": "code",
   "execution_count": 9,
   "metadata": {},
   "outputs": [],
   "source": [
    "import numpy\n",
    "import pandas\n",
    "from tensorflow.keras.models import Sequential\n",
    "from tensorflow.keras.layers import Dense\n",
    "from tensorflow.keras.wrappers.scikit_learn import KerasClassifier\n",
    "from sklearn.model_selection import cross_val_score\n",
    "from sklearn.preprocessing import LabelEncoder\n",
    "from sklearn.model_selection import StratifiedKFold\n",
    "from sklearn.preprocessing import StandardScaler\n",
    "from sklearn.pipeline import Pipeline"
   ]
  },
  {
   "cell_type": "code",
   "execution_count": 10,
   "metadata": {},
   "outputs": [],
   "source": [
    "# fix random seed for reproducibility\n",
    "seed = 7\n",
    "numpy.random.seed(seed)\n",
    "# load dataset\n",
    "dataframe = pandas.read_csv(\"sonar.csv\", header=None)\n",
    "dataset = dataframe.values\n",
    "# split into input (X) and output (Y) variables\n",
    "X = dataset[:,0:60].astype(float)\n",
    "Y = dataset[:,60]\n"
   ]
  },
  {
   "cell_type": "markdown",
   "metadata": {},
   "source": [
    "### Encodeing Labels"
   ]
  },
  {
   "cell_type": "code",
   "execution_count": 11,
   "metadata": {},
   "outputs": [],
   "source": [
    "# encode class values as integers\n",
    "encoder = LabelEncoder()\n",
    "encoder.fit(Y)\n",
    "encoded_Y = encoder.transform(Y)\n",
    "\n"
   ]
  },
  {
   "cell_type": "code",
   "execution_count": 12,
   "metadata": {},
   "outputs": [],
   "source": [
    "from tensorflow.keras.utils import plot_model\n",
    "from tensorflow.keras.models import Sequential, Model\n",
    "from tensorflow.keras import layers\n",
    "from tensorflow.keras import Input"
   ]
  },
  {
   "cell_type": "markdown",
   "metadata": {},
   "source": [
    "### Functional API"
   ]
  },
  {
   "cell_type": "code",
   "execution_count": 13,
   "metadata": {},
   "outputs": [
    {
     "name": "stdout",
     "output_type": "stream",
     "text": [
      "Standardized: 82.66% (3.99%)\n"
     ]
    }
   ],
   "source": [
    "from tensorflow.keras import layers\n",
    "from tensorflow.keras import models\n",
    "def create_baseline_functional():\n",
    "    input_tensor= Input(shape=(60,))\n",
    "    x=layers.Dense(60,activation=\"relu\")(input_tensor)\n",
    "#x = layers.Dense(1, activation='relu')(x)\n",
    "    output_tensor = layers.Dense(1,activation=\"sigmoid\")(x)\n",
    "# The Model class turns an input tensor and output tensor into a model\n",
    "    model = Model(input_tensor, output_tensor)\n",
    "    \n",
    "    # Compile the model\n",
    "    model.compile(optimizer = 'Adam', loss = 'binary_crossentropy', metrics = ['accuracy'])\n",
    "  \n",
    "    return model\n",
    "# evaluate baseline model with standardized dataset\n",
    "numpy.random.seed(seed)\n",
    "estimators = []\n",
    "estimators.append(('standardize', StandardScaler()))\n",
    "estimators.append(('mlp', KerasClassifier(build_fn=create_baseline_functional, epochs=100, batch_size=5, verbose=0)))\n",
    "pipeline = Pipeline(estimators)\n",
    "kfold = StratifiedKFold(n_splits=10, shuffle=True, random_state=seed)\n",
    "results = cross_val_score(pipeline, X, encoded_Y, cv=kfold)\n",
    "print(\"Standardized: %.2f%% (%.2f%%)\" % (results.mean()*100, results.std()*100))  "
   ]
  },
  {
   "cell_type": "markdown",
   "metadata": {},
   "source": [
    " *Smaller_functional*"
   ]
  },
  {
   "cell_type": "code",
   "execution_count": 14,
   "metadata": {},
   "outputs": [
    {
     "name": "stdout",
     "output_type": "stream",
     "text": [
      "Smaller: 83.21% (6.41%)\n"
     ]
    }
   ],
   "source": [
    "def create_smaller_functional():\n",
    "    input_tensor = Input(shape=(60,))\n",
    "    x = layers.Dense(30, activation='relu')(input_tensor)\n",
    "    output_tensor = layers.Dense(1, activation='sigmoid')(x)\n",
    "# The Model class turns an input tensor and output tensor into a model\\\n",
    "    model = Model(input_tensor, output_tensor)\n",
    "  \n",
    "  # Compile the model\n",
    "    model.compile(optimizer = 'Adam', loss = 'binary_crossentropy', metrics = ['accuracy'])\n",
    "  \n",
    "    return model\n",
    "\n",
    "# evaluate smaller model with standardized dataset\n",
    "estimators = []\n",
    "estimators.append(('standardize', StandardScaler()))\n",
    "estimators.append(('mlp', KerasClassifier(build_fn=create_smaller_functional, epochs=100, batch_size=5, verbose=0)))\n",
    "pipeline = Pipeline(estimators)\n",
    "kfold = StratifiedKFold(n_splits=10, shuffle=True, random_state=seed)\n",
    "results = cross_val_score(pipeline, X, encoded_Y, cv=kfold)\n",
    "print(\"Smaller: %.2f%% (%.2f%%)\" % (results.mean()*100, results.std()*100))"
   ]
  },
  {
   "cell_type": "markdown",
   "metadata": {},
   "source": [
    " *Create_larger_functional*"
   ]
  },
  {
   "cell_type": "code",
   "execution_count": 43,
   "metadata": {},
   "outputs": [
    {
     "name": "stdout",
     "output_type": "stream",
     "text": [
      "Smaller: 85.09% (4.02%)\n"
     ]
    }
   ],
   "source": [
    "def create_larger_functional():\n",
    "    input_tensor = Input(shape=(60,))\n",
    "    x = layers.Dense(60, activation='relu')(input_tensor)\n",
    "    x = layers.Dense(30, activation='relu')(x)\n",
    "    output_tensor = layers.Dense(1, activation='sigmoid')(x)\n",
    "# The Model class turns an input tensor and output tensor into a model\\\n",
    "    model = Model(input_tensor, output_tensor)\n",
    "  \n",
    "  # Compile the model\n",
    "    model.compile(optimizer = 'Adam', loss = 'binary_crossentropy', metrics = ['accuracy'])\n",
    "  \n",
    "    return model\n",
    "\n",
    "# evaluate smaller model with standardized dataset\n",
    "estimators = []\n",
    "estimators.append(('standardize', StandardScaler()))\n",
    "estimators.append(('mlp', KerasClassifier(build_fn=create_larger_functional, epochs=100, batch_size=5, verbose=0)))\n",
    "pipeline = Pipeline(estimators)\n",
    "kfold = StratifiedKFold(n_splits=10, shuffle=True, random_state=seed)\n",
    "results = cross_val_score(pipeline, X, encoded_Y, cv=kfold)\n",
    "print(\"Smaller: %.2f%% (%.2f%%)\" % (results.mean()*100, results.std()*100))\n"
   ]
  },
  {
   "cell_type": "code",
   "execution_count": 47,
   "metadata": {},
   "outputs": [
    {
     "name": "stdout",
     "output_type": "stream",
     "text": [
      "Smaller: 84.59% (5.29%)\n"
     ]
    }
   ],
   "source": [
    "def create_fully_scaled_functional():\n",
    "    input_tensor = Input(shape=(60,))\n",
    "    x = layers.Dense(1020, activation='relu')(input_tensor)\n",
    "    x = layers.Dense(600, activation='relu')(x)\n",
    "    x = layers.Dense(400, activation='relu')(x)\n",
    "    x = layers.Dense(200, activation='relu')(x)\n",
    "    x = layers.Dense(120, activation='relu')(x)\n",
    "    x = layers.Dense(60, activation='relu')(x)\n",
    "    x = layers.Dense(30, activation='relu')(x)\n",
    "    x = layers.Dense(10, activation='relu')(x)\n",
    "    output_tensor = layers.Dense(1, activation='sigmoid')(x)\n",
    "# The Model class turns an input tensor and output tensor into a model\\\n",
    "    model = Model(input_tensor, output_tensor)\n",
    "  \n",
    "  # Compile the model\n",
    "    model.compile(optimizer = 'Adam', loss = 'binary_crossentropy', metrics = ['accuracy'])\n",
    "  \n",
    "    return model\n",
    "\n",
    "# evaluate smaller model with standardized dataset\n",
    "estimators = []\n",
    "estimators.append(('standardize', StandardScaler()))\n",
    "estimators.append(('mlp', KerasClassifier(build_fn=create_fully_scaled_functional, epochs=100, batch_size=5, verbose=0)))\n",
    "pipeline = Pipeline(estimators)\n",
    "kfold = StratifiedKFold(n_splits=10, shuffle=True, random_state=seed)\n",
    "results = cross_val_score(pipeline, X, encoded_Y, cv=kfold)\n",
    "print(\"Smaller: %.2f%% (%.2f%%)\" % (results.mean()*100, results.std()*100))"
   ]
  },
  {
   "cell_type": "code",
   "execution_count": 48,
   "metadata": {},
   "outputs": [],
   "source": [
    "# fully_scaled model"
   ]
  },
  {
   "cell_type": "code",
   "execution_count": 8,
   "metadata": {},
   "outputs": [
    {
     "name": "stdout",
     "output_type": "stream",
     "text": [
      "Smaller: 82.16% (6.25%)\n"
     ]
    }
   ],
   "source": [
    "def create_tuned_functional():\n",
    "    input_tensor = Input(shape=(60,))\n",
    "    x = layers.Dense(10, activation='relu')(input_tensor)\n",
    "    x = layers.Dense(5, activation='relu')(x)\n",
    "    output_tensor = layers.Dense(1, activation='sigmoid')(x)\n",
    "# The Model class turns an input tensor and output tensor into a model\\\n",
    "    model = Model(input_tensor, output_tensor)\n",
    "  \n",
    "  # Compile the model\n",
    "    model.compile(optimizer = 'Adam', loss = 'binary_crossentropy', metrics = ['accuracy'])\n",
    "  \n",
    "    return model\n",
    "\n",
    "# evaluate smaller model with standardized dataset\n",
    "estimators = []\n",
    "estimators.append(('standardize', StandardScaler()))\n",
    "estimators.append(('mlp', KerasClassifier(build_fn=create_tuned_functional, epochs=100, batch_size=5, verbose=0)))\n",
    "pipeline = Pipeline(estimators)\n",
    "kfold = StratifiedKFold(n_splits=10, shuffle=True, random_state=seed)\n",
    "results = cross_val_score(pipeline, X, encoded_Y, cv=kfold)\n",
    "print(\"Smaller: %.2f%% (%.2f%%)\" % (results.mean()*100, results.std()*100))"
   ]
  },
  {
   "cell_type": "code",
   "execution_count": null,
   "metadata": {},
   "outputs": [],
   "source": []
  }
 ],
 "metadata": {
  "kernelspec": {
   "display_name": "Python 3",
   "language": "python",
   "name": "python3"
  },
  "language_info": {
   "codemirror_mode": {
    "name": "ipython",
    "version": 3
   },
   "file_extension": ".py",
   "mimetype": "text/x-python",
   "name": "python",
   "nbconvert_exporter": "python",
   "pygments_lexer": "ipython3",
   "version": "3.7.4"
  }
 },
 "nbformat": 4,
 "nbformat_minor": 2
}
