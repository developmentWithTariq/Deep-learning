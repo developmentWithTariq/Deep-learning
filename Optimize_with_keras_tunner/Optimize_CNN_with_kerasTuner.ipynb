{
  "nbformat": 4,
  "nbformat_minor": 0,
  "metadata": {
    "colab": {
      "name": "Optimize_CNN_with_kerasTuner.ipynb",
      "provenance": [],
      "collapsed_sections": []
    },
    "kernelspec": {
      "name": "python3",
      "display_name": "Python 3"
    },
    "language_info": {
      "name": "python"
    },
    "accelerator": "GPU"
  },
  "cells": [
    {
      "cell_type": "markdown",
      "source": [
        "# Create CNN Model and Optimize it using Keras Tuner"
      ],
      "metadata": {
        "id": "GSlqmw72-bqy"
      }
    },
    {
      "cell_type": "markdown",
      "source": [
        "### first install keras tuner\n"
      ],
      "metadata": {
        "id": "hFR7ZSMQ_OrN"
      }
    },
    {
      "cell_type": "code",
      "execution_count": 5,
      "metadata": {
        "colab": {
          "base_uri": "https://localhost:8080/"
        },
        "id": "uuq7LBz_-Scf",
        "outputId": "436e2815-a2e9-4229-d89b-97b2543ecee5"
      },
      "outputs": [
        {
          "output_type": "stream",
          "name": "stdout",
          "text": [
            "Collecting keras-tuner\n",
            "  Downloading keras_tuner-1.1.0-py3-none-any.whl (98 kB)\n",
            "\u001b[?25l\r\u001b[K     |███▍                            | 10 kB 23.7 MB/s eta 0:00:01\r\u001b[K     |██████▊                         | 20 kB 24.8 MB/s eta 0:00:01\r\u001b[K     |██████████                      | 30 kB 12.5 MB/s eta 0:00:01\r\u001b[K     |█████████████▍                  | 40 kB 9.7 MB/s eta 0:00:01\r\u001b[K     |████████████████▊               | 51 kB 5.4 MB/s eta 0:00:01\r\u001b[K     |████████████████████            | 61 kB 6.0 MB/s eta 0:00:01\r\u001b[K     |███████████████████████▍        | 71 kB 5.7 MB/s eta 0:00:01\r\u001b[K     |██████████████████████████▊     | 81 kB 6.4 MB/s eta 0:00:01\r\u001b[K     |██████████████████████████████  | 92 kB 4.9 MB/s eta 0:00:01\r\u001b[K     |████████████████████████████████| 98 kB 3.1 MB/s \n",
            "\u001b[?25hRequirement already satisfied: tensorboard in /usr/local/lib/python3.7/dist-packages (from keras-tuner) (2.7.0)\n",
            "Requirement already satisfied: ipython in /usr/local/lib/python3.7/dist-packages (from keras-tuner) (5.5.0)\n",
            "Requirement already satisfied: requests in /usr/local/lib/python3.7/dist-packages (from keras-tuner) (2.23.0)\n",
            "Requirement already satisfied: numpy in /usr/local/lib/python3.7/dist-packages (from keras-tuner) (1.19.5)\n",
            "Requirement already satisfied: scipy in /usr/local/lib/python3.7/dist-packages (from keras-tuner) (1.4.1)\n",
            "Requirement already satisfied: packaging in /usr/local/lib/python3.7/dist-packages (from keras-tuner) (21.3)\n",
            "Collecting kt-legacy\n",
            "  Downloading kt_legacy-1.0.4-py3-none-any.whl (9.6 kB)\n",
            "Requirement already satisfied: decorator in /usr/local/lib/python3.7/dist-packages (from ipython->keras-tuner) (4.4.2)\n",
            "Requirement already satisfied: simplegeneric>0.8 in /usr/local/lib/python3.7/dist-packages (from ipython->keras-tuner) (0.8.1)\n",
            "Requirement already satisfied: prompt-toolkit<2.0.0,>=1.0.4 in /usr/local/lib/python3.7/dist-packages (from ipython->keras-tuner) (1.0.18)\n",
            "Requirement already satisfied: setuptools>=18.5 in /usr/local/lib/python3.7/dist-packages (from ipython->keras-tuner) (57.4.0)\n",
            "Requirement already satisfied: pygments in /usr/local/lib/python3.7/dist-packages (from ipython->keras-tuner) (2.6.1)\n",
            "Requirement already satisfied: pickleshare in /usr/local/lib/python3.7/dist-packages (from ipython->keras-tuner) (0.7.5)\n",
            "Requirement already satisfied: traitlets>=4.2 in /usr/local/lib/python3.7/dist-packages (from ipython->keras-tuner) (5.1.1)\n",
            "Requirement already satisfied: pexpect in /usr/local/lib/python3.7/dist-packages (from ipython->keras-tuner) (4.8.0)\n",
            "Requirement already satisfied: six>=1.9.0 in /usr/local/lib/python3.7/dist-packages (from prompt-toolkit<2.0.0,>=1.0.4->ipython->keras-tuner) (1.15.0)\n",
            "Requirement already satisfied: wcwidth in /usr/local/lib/python3.7/dist-packages (from prompt-toolkit<2.0.0,>=1.0.4->ipython->keras-tuner) (0.2.5)\n",
            "Requirement already satisfied: pyparsing!=3.0.5,>=2.0.2 in /usr/local/lib/python3.7/dist-packages (from packaging->keras-tuner) (3.0.6)\n",
            "Requirement already satisfied: ptyprocess>=0.5 in /usr/local/lib/python3.7/dist-packages (from pexpect->ipython->keras-tuner) (0.7.0)\n",
            "Requirement already satisfied: certifi>=2017.4.17 in /usr/local/lib/python3.7/dist-packages (from requests->keras-tuner) (2021.10.8)\n",
            "Requirement already satisfied: urllib3!=1.25.0,!=1.25.1,<1.26,>=1.21.1 in /usr/local/lib/python3.7/dist-packages (from requests->keras-tuner) (1.24.3)\n",
            "Requirement already satisfied: chardet<4,>=3.0.2 in /usr/local/lib/python3.7/dist-packages (from requests->keras-tuner) (3.0.4)\n",
            "Requirement already satisfied: idna<3,>=2.5 in /usr/local/lib/python3.7/dist-packages (from requests->keras-tuner) (2.10)\n",
            "Requirement already satisfied: grpcio>=1.24.3 in /usr/local/lib/python3.7/dist-packages (from tensorboard->keras-tuner) (1.42.0)\n",
            "Requirement already satisfied: tensorboard-data-server<0.7.0,>=0.6.0 in /usr/local/lib/python3.7/dist-packages (from tensorboard->keras-tuner) (0.6.1)\n",
            "Requirement already satisfied: google-auth-oauthlib<0.5,>=0.4.1 in /usr/local/lib/python3.7/dist-packages (from tensorboard->keras-tuner) (0.4.6)\n",
            "Requirement already satisfied: google-auth<3,>=1.6.3 in /usr/local/lib/python3.7/dist-packages (from tensorboard->keras-tuner) (1.35.0)\n",
            "Requirement already satisfied: markdown>=2.6.8 in /usr/local/lib/python3.7/dist-packages (from tensorboard->keras-tuner) (3.3.6)\n",
            "Requirement already satisfied: wheel>=0.26 in /usr/local/lib/python3.7/dist-packages (from tensorboard->keras-tuner) (0.37.0)\n",
            "Requirement already satisfied: werkzeug>=0.11.15 in /usr/local/lib/python3.7/dist-packages (from tensorboard->keras-tuner) (1.0.1)\n",
            "Requirement already satisfied: protobuf>=3.6.0 in /usr/local/lib/python3.7/dist-packages (from tensorboard->keras-tuner) (3.17.3)\n",
            "Requirement already satisfied: absl-py>=0.4 in /usr/local/lib/python3.7/dist-packages (from tensorboard->keras-tuner) (0.12.0)\n",
            "Requirement already satisfied: tensorboard-plugin-wit>=1.6.0 in /usr/local/lib/python3.7/dist-packages (from tensorboard->keras-tuner) (1.8.0)\n",
            "Requirement already satisfied: cachetools<5.0,>=2.0.0 in /usr/local/lib/python3.7/dist-packages (from google-auth<3,>=1.6.3->tensorboard->keras-tuner) (4.2.4)\n",
            "Requirement already satisfied: pyasn1-modules>=0.2.1 in /usr/local/lib/python3.7/dist-packages (from google-auth<3,>=1.6.3->tensorboard->keras-tuner) (0.2.8)\n",
            "Requirement already satisfied: rsa<5,>=3.1.4 in /usr/local/lib/python3.7/dist-packages (from google-auth<3,>=1.6.3->tensorboard->keras-tuner) (4.8)\n",
            "Requirement already satisfied: requests-oauthlib>=0.7.0 in /usr/local/lib/python3.7/dist-packages (from google-auth-oauthlib<0.5,>=0.4.1->tensorboard->keras-tuner) (1.3.0)\n",
            "Requirement already satisfied: importlib-metadata>=4.4 in /usr/local/lib/python3.7/dist-packages (from markdown>=2.6.8->tensorboard->keras-tuner) (4.8.2)\n",
            "Requirement already satisfied: typing-extensions>=3.6.4 in /usr/local/lib/python3.7/dist-packages (from importlib-metadata>=4.4->markdown>=2.6.8->tensorboard->keras-tuner) (3.10.0.2)\n",
            "Requirement already satisfied: zipp>=0.5 in /usr/local/lib/python3.7/dist-packages (from importlib-metadata>=4.4->markdown>=2.6.8->tensorboard->keras-tuner) (3.6.0)\n",
            "Requirement already satisfied: pyasn1<0.5.0,>=0.4.6 in /usr/local/lib/python3.7/dist-packages (from pyasn1-modules>=0.2.1->google-auth<3,>=1.6.3->tensorboard->keras-tuner) (0.4.8)\n",
            "Requirement already satisfied: oauthlib>=3.0.0 in /usr/local/lib/python3.7/dist-packages (from requests-oauthlib>=0.7.0->google-auth-oauthlib<0.5,>=0.4.1->tensorboard->keras-tuner) (3.1.1)\n",
            "Installing collected packages: kt-legacy, keras-tuner\n",
            "Successfully installed keras-tuner-1.1.0 kt-legacy-1.0.4\n"
          ]
        }
      ],
      "source": [
        "!pip install keras-tuner"
      ]
    },
    {
      "cell_type": "code",
      "source": [
        "# import all required libraries\n",
        "import tensorflow as tf\n",
        "from tensorflow import keras  \n",
        "import numpy as np"
      ],
      "metadata": {
        "id": "e1FTWbIY_VZ3"
      },
      "execution_count": 4,
      "outputs": []
    },
    {
      "cell_type": "code",
      "source": [
        "print(tf.__version__)"
      ],
      "metadata": {
        "colab": {
          "base_uri": "https://localhost:8080/"
        },
        "id": "hU0aeaiR_XJL",
        "outputId": "6844dc19-cce4-497c-bc42-ae1acafb5e38"
      },
      "execution_count": 2,
      "outputs": [
        {
          "output_type": "stream",
          "name": "stdout",
          "text": [
            "2.7.0\n"
          ]
        }
      ]
    },
    {
      "cell_type": "markdown",
      "source": [
        "Download the Fashion MNIST DataSet from keras.datasets"
      ],
      "metadata": {
        "id": "My4UzDExbir7"
      }
    },
    {
      "cell_type": "code",
      "source": [
        "fashion_mist = keras.datasets.fashion_mnist"
      ],
      "metadata": {
        "id": "M9sVwUP7_XPK"
      },
      "execution_count": 8,
      "outputs": []
    },
    {
      "cell_type": "code",
      "source": [
        "(train_images, train_labels),(test_images, test_labels) = fashion_mist.load_data()"
      ],
      "metadata": {
        "colab": {
          "base_uri": "https://localhost:8080/"
        },
        "id": "iuMfGF81_XTS",
        "outputId": "553e3ccb-2859-4b8f-9a77-2b88bb993367"
      },
      "execution_count": 9,
      "outputs": [
        {
          "output_type": "stream",
          "name": "stdout",
          "text": [
            "Downloading data from https://storage.googleapis.com/tensorflow/tf-keras-datasets/train-labels-idx1-ubyte.gz\n",
            "32768/29515 [=================================] - 0s 0us/step\n",
            "40960/29515 [=========================================] - 0s 0us/step\n",
            "Downloading data from https://storage.googleapis.com/tensorflow/tf-keras-datasets/train-images-idx3-ubyte.gz\n",
            "26427392/26421880 [==============================] - 0s 0us/step\n",
            "26435584/26421880 [==============================] - 0s 0us/step\n",
            "Downloading data from https://storage.googleapis.com/tensorflow/tf-keras-datasets/t10k-labels-idx1-ubyte.gz\n",
            "16384/5148 [===============================================================================================] - 0s 0us/step\n",
            "Downloading data from https://storage.googleapis.com/tensorflow/tf-keras-datasets/t10k-images-idx3-ubyte.gz\n",
            "4423680/4422102 [==============================] - 0s 0us/step\n",
            "4431872/4422102 [==============================] - 0s 0us/step\n"
          ]
        }
      ]
    },
    {
      "cell_type": "markdown",
      "source": [
        "### Normalize the data\n",
        "#### By dividing each pixel to 255.0"
      ],
      "metadata": {
        "id": "at5YW_A7eh00"
      }
    },
    {
      "cell_type": "code",
      "source": [
        "train_images= train_images/255.0\n",
        "test_images = test_images/255.0"
      ],
      "metadata": {
        "id": "dKdb6Dzu_XWb"
      },
      "execution_count": 10,
      "outputs": []
    },
    {
      "cell_type": "code",
      "source": [
        "train_images[0].shape\n",
        "\n",
        "  "
      ],
      "metadata": {
        "colab": {
          "base_uri": "https://localhost:8080/"
        },
        "id": "Zt4-Qhg5AbJX",
        "outputId": "5da257ce-0d34-4524-9716-95eedf21b257"
      },
      "execution_count": 11,
      "outputs": [
        {
          "output_type": "execute_result",
          "data": {
            "text/plain": [
              "(28, 28)"
            ]
          },
          "metadata": {},
          "execution_count": 11
        }
      ]
    },
    {
      "cell_type": "markdown",
      "source": [
        "#### Change the Shape of data Because we have data with shape(60000,28,28) but Con2D support 4dim of shape (60000,28,28,1) last is the channel here we have grayscale images that's why the last dimenstion is 1 "
      ],
      "metadata": {
        "id": "fLPm3j_Ke0yO"
      }
    },
    {
      "cell_type": "code",
      "source": [
        "train_images = train_images.reshape(len(train_images),28,28,1)\n",
        "test_images = test_images.reshape(len(test_images),28,28,1)"
      ],
      "metadata": {
        "id": "hEM-dFSYAbO8"
      },
      "execution_count": 12,
      "outputs": []
    },
    {
      "cell_type": "code",
      "source": [
        "train_images.shape"
      ],
      "metadata": {
        "colab": {
          "base_uri": "https://localhost:8080/"
        },
        "id": "oJXWFFa4AbR6",
        "outputId": "29d86bc4-e762-4de4-8203-766c86e95ab0"
      },
      "execution_count": 13,
      "outputs": [
        {
          "output_type": "execute_result",
          "data": {
            "text/plain": [
              "(60000, 28, 28, 1)"
            ]
          },
          "metadata": {},
          "execution_count": 13
        }
      ]
    },
    {
      "cell_type": "code",
      "source": [
        "from keras.layers import Dense, Conv2D, Flatten ,Dropout\n",
        "from keras.models import Model\n",
        "from keras import Input"
      ],
      "metadata": {
        "id": "-lATBziwAbVL"
      },
      "execution_count": 6,
      "outputs": []
    },
    {
      "cell_type": "code",
      "metadata": {
        "id": "alNFfaFfzi6z"
      },
      "source": [
        "def build_model(hp):  \n",
        "  model = keras.Sequential([\n",
        "    keras.layers.Conv2D(\n",
        "        # Tune number of filter from between 32 to 128 with step_size of 16 \n",
        "        filters=hp.Int('conv_1_filter', min_value=32, max_value=128, step=16),\n",
        "        # Tune size of kernel is 3 or 5\n",
        "        kernel_size=hp.Choice('conv_1_kernel', values = [3,5]),\n",
        "        activation='relu',\n",
        "        input_shape=(28,28,1)\n",
        "    ),\n",
        "    keras.layers.Conv2D(\n",
        "        # Tune number of fliter and kernel size\n",
        "        filters=hp.Int('conv_2_filter', min_value=32, max_value=64, step=16),\n",
        "        kernel_size=hp.Choice('conv_2_kernel', values = [3,5]),\n",
        "        activation='relu'\n",
        "    ),\n",
        "    keras.layers.Flatten(),\n",
        "    keras.layers.Dense(\n",
        "        # Tune number of units\n",
        "        units=hp.Int('dense_1_units', min_value=32, max_value=128, step=16),\n",
        "        activation='relu'\n",
        "    ),\n",
        "    keras.layers.Dense(10, activation='softmax')\n",
        "  ])\n",
        "  \n",
        "  model.compile(optimizer=keras.optimizers.Adam(hp.Choice('learning_rate', values=[1e-2, 1e-3])),\n",
        "              loss='sparse_categorical_crossentropy',\n",
        "              metrics=['accuracy'])\n",
        "  \n",
        "  return model"
      ],
      "execution_count": 23,
      "outputs": []
    },
    {
      "cell_type": "code",
      "source": [
        "from keras_tuner import RandomSearch\n",
        "from keras_tuner.engine.hyperparameters import HyperParameters\n",
        "import matplotlib.pyplot as plt\n"
      ],
      "metadata": {
        "id": "O9m0cwhzAbYH"
      },
      "execution_count": 7,
      "outputs": []
    },
    {
      "cell_type": "code",
      "source": [
        "tuner_search=RandomSearch(build_model,\n",
        "                          objective='val_accuracy',  # here is max trial is 5 mean our model will train 5 time with different combination of hyperparameters\n",
        "                          max_trials=5,directory='output',project_name=\"Mnist Fashion1\",overwrite=True)"
      ],
      "metadata": {
        "id": "FixpkzVbAbbC"
      },
      "execution_count": 25,
      "outputs": []
    },
    {
      "cell_type": "code",
      "source": [
        "tuner_search.search(train_images,train_labels,epochs=3,validation_split=0.1)"
      ],
      "metadata": {
        "colab": {
          "base_uri": "https://localhost:8080/"
        },
        "id": "JrBmkYoCAbd5",
        "outputId": "6db1367e-c62f-44ab-b213-ddf8f6d84352"
      },
      "execution_count": 26,
      "outputs": [
        {
          "output_type": "stream",
          "name": "stdout",
          "text": [
            "Trial 5 Complete [00h 00m 51s]\n",
            "val_accuracy: 0.8970000147819519\n",
            "\n",
            "Best val_accuracy So Far: 0.8970000147819519\n",
            "Total elapsed time: 00h 05m 55s\n",
            "INFO:tensorflow:Oracle triggered exit\n"
          ]
        }
      ]
    },
    {
      "cell_type": "code",
      "source": [
        "model=tuner_search.get_best_models(num_models=1)[0] # this will return list of best models "
      ],
      "metadata": {
        "id": "v75LMPJnAbgb"
      },
      "execution_count": 27,
      "outputs": []
    },
    {
      "cell_type": "code",
      "source": [
        "model.summary()"
      ],
      "metadata": {
        "colab": {
          "base_uri": "https://localhost:8080/"
        },
        "id": "DOEVv4InAbj4",
        "outputId": "383fbd3f-2c59-435c-ab10-33903fe5f1d2"
      },
      "execution_count": 28,
      "outputs": [
        {
          "output_type": "stream",
          "name": "stdout",
          "text": [
            "Model: \"sequential\"\n",
            "_________________________________________________________________\n",
            " Layer (type)                Output Shape              Param #   \n",
            "=================================================================\n",
            " conv2d (Conv2D)             (None, 24, 24, 96)        2496      \n",
            "                                                                 \n",
            " conv2d_1 (Conv2D)           (None, 20, 20, 48)        115248    \n",
            "                                                                 \n",
            " flatten (Flatten)           (None, 19200)             0         \n",
            "                                                                 \n",
            " dense (Dense)               (None, 64)                1228864   \n",
            "                                                                 \n",
            " dense_1 (Dense)             (None, 10)                650       \n",
            "                                                                 \n",
            "=================================================================\n",
            "Total params: 1,347,258\n",
            "Trainable params: 1,347,258\n",
            "Non-trainable params: 0\n",
            "_________________________________________________________________\n"
          ]
        }
      ]
    },
    {
      "cell_type": "markdown",
      "source": [
        "### Now let's train the best model more."
      ],
      "metadata": {
        "id": "fCbab_kGiwEV"
      }
    },
    {
      "cell_type": "code",
      "source": [
        "history = model.fit(train_images, train_labels, epochs=10, validation_split=0.1, initial_epoch=3)"
      ],
      "metadata": {
        "colab": {
          "base_uri": "https://localhost:8080/"
        },
        "id": "G6RsAg13AbqF",
        "outputId": "9b3ffb3e-8746-4485-8737-9630d5b6231a"
      },
      "execution_count": 29,
      "outputs": [
        {
          "output_type": "stream",
          "name": "stdout",
          "text": [
            "Epoch 4/10\n",
            "1688/1688 [==============================] - 17s 10ms/step - loss: 0.1901 - accuracy: 0.9292 - val_loss: 0.2851 - val_accuracy: 0.9035\n",
            "Epoch 5/10\n",
            "1688/1688 [==============================] - 17s 10ms/step - loss: 0.1538 - accuracy: 0.9420 - val_loss: 0.2619 - val_accuracy: 0.9083\n",
            "Epoch 6/10\n",
            "1688/1688 [==============================] - 19s 12ms/step - loss: 0.1249 - accuracy: 0.9530 - val_loss: 0.2979 - val_accuracy: 0.9073\n",
            "Epoch 7/10\n",
            "1688/1688 [==============================] - 17s 10ms/step - loss: 0.1041 - accuracy: 0.9611 - val_loss: 0.3123 - val_accuracy: 0.9088\n",
            "Epoch 8/10\n",
            "1688/1688 [==============================] - 17s 10ms/step - loss: 0.0821 - accuracy: 0.9688 - val_loss: 0.3523 - val_accuracy: 0.9092\n",
            "Epoch 9/10\n",
            "1688/1688 [==============================] - 17s 10ms/step - loss: 0.0683 - accuracy: 0.9747 - val_loss: 0.4170 - val_accuracy: 0.9067\n",
            "Epoch 10/10\n",
            "1688/1688 [==============================] - 22s 13ms/step - loss: 0.0567 - accuracy: 0.9789 - val_loss: 0.4138 - val_accuracy: 0.9083\n"
          ]
        }
      ]
    },
    {
      "cell_type": "code",
      "source": [
        "epochs = 7\n",
        "history_dict = history.history\n",
        "plt.clf()\n",
        "acc_values = history_dict['accuracy']\n",
        "val_acc_values = history_dict['val_accuracy']\n",
        "plt.plot(range(epochs), acc_values, 'bo', label='Training acc')\n",
        "plt.plot(range(epochs), val_acc_values, 'b', label='Validation acc')\n",
        "plt.title('Training and validation accuracy')\n",
        "plt.xlabel('Epochs')\n",
        "plt.ylabel('Loss')\n",
        "plt.legend()\n",
        "plt.show()\n",
        "print(acc_values, \"\\n\",val_acc_values)"
      ],
      "metadata": {
        "colab": {
          "base_uri": "https://localhost:8080/",
          "height": 327
        },
        "id": "qo4EBNiwO4xJ",
        "outputId": "cbeed7c5-6176-499a-afb0-3cac0587c4c6"
      },
      "execution_count": 44,
      "outputs": [
        {
          "output_type": "display_data",
          "data": {
            "image/png": "[encoded data removed]",
            "text/plain": [
              "<Figure size 432x288 with 1 Axes>"
            ]
          },
          "metadata": {
            "needs_background": "light"
          }
        },
        {
          "output_type": "stream",
          "name": "stdout",
          "text": [
            "[0.9291666746139526, 0.9419999718666077, 0.9530370235443115, 0.9610925912857056, 0.9688147902488708, 0.9746851921081543, 0.9789259433746338] \n",
            " [0.9035000205039978, 0.9083333611488342, 0.9073333144187927, 0.9088333249092102, 0.909166693687439, 0.9066666960716248, 0.9083333611488342]\n"
          ]
        }
      ]
    },
    {
      "cell_type": "code",
      "source": [
        "epochs = 7\n",
        "history_dict = history.history\n",
        "plt.clf()\n",
        "loss_values = history_dict['loss']\n",
        "val_loss_values = history_dict['val_loss']\n",
        "plt.plot(range(epochs), loss_values, 'bo', label='Training loss')\n",
        "plt.plot(range(epochs), val_loss_values, 'b', label='Validation loss')\n",
        "plt.title('Training and validation loss')\n",
        "plt.xlabel('Epochs')\n",
        "plt.ylabel('Loss')\n",
        "plt.legend()\n",
        "plt.show()\n"
      ],
      "metadata": {
        "colab": {
          "base_uri": "https://localhost:8080/",
          "height": 295
        },
        "id": "S_BIY9XnO40c",
        "outputId": "bc6bfe26-05b3-4d85-8b93-b3578a59aaa5"
      },
      "execution_count": 46,
      "outputs": [
        {
          "output_type": "display_data",
          "data": {
            "image/png": "[encoded data removed]",
            "text/plain": [
              "<Figure size 432x288 with 1 Axes>"
            ]
          },
          "metadata": {
            "needs_background": "light"
          }
        }
      ]
    },
    {
      "cell_type": "markdown",
      "source": [
        "### You can see that over model get training accuracy some way around 97 but validation accuracy is 90 its mean our model is overfit \n",
        "### let's start main work The work is reduce overfitting "
      ],
      "metadata": {
        "id": "ro3d_-yBjHrb"
      }
    },
    {
      "cell_type": "code",
      "source": [
        "# save the model \n",
        "model.save('./content/outputs/first_model.hdf5')"
      ],
      "metadata": {
        "id": "OuKMbFdOdgTJ"
      },
      "execution_count": 52,
      "outputs": []
    },
    {
      "cell_type": "code",
      "source": [
        ""
      ],
      "metadata": {
        "id": "naGsFYpokNB_"
      },
      "execution_count": null,
      "outputs": []
    },
    {
      "cell_type": "code",
      "source": [
        ""
      ],
      "metadata": {
        "id": "XhDFTwvlO5K8"
      },
      "execution_count": null,
      "outputs": []
    },
    {
      "cell_type": "code",
      "source": [
        ""
      ],
      "metadata": {
        "id": "HBMmBKSfAbtM"
      },
      "execution_count": null,
      "outputs": []
    },
    {
      "cell_type": "markdown",
      "source": [
        "## Tune Hyperparameter\n",
        "#### Again tune model with functional Api and tune the hyperparameters.\n",
        "#### I first try to build model with functional api but keras tuner doesn't support so leave it "
      ],
      "metadata": {
        "id": "hcK3F6mASJZY"
      }
    },
    {
      "cell_type": "code",
      "source": [
        ""
      ],
      "metadata": {
        "id": "OoaZKjkV_XZf"
      },
      "execution_count": 70,
      "outputs": []
    },
    {
      "cell_type": "code",
      "source": [
        "# def tunned_model(hp):  \n",
        "#   input = Input(28,28,1)\n",
        "#   x1  = Conv2D(filters=hp.Int('conv_1_filter', min_value=32, max_value=144, step=16),\n",
        "#         kernel_size=hp.Choice('conv_1_kernel', values = [3,5,7]),\n",
        "#         activation='relu')(input)\n",
        "#   x2 = keras.layers.BatchNormalization()(x1)\n",
        "#   x3 = Conv2D(ilters=hp.Int('conv_2_filter', min_value=32, max_value=128, step=16),\n",
        "#         kernel_size=hp.Choice('conv_2_kernel', values = [3,5,7]),\n",
        "#         activation='relu')(x2)\n",
        "#   x4 = Dropout(0.3)(x3) \n",
        "#   x5 = keras.layers.BatchNormalization()(x4)\n",
        "#   x6 = Conv2D(ilters=hp.Int('conv_3_filter', min_value=32, max_value=64, step=16),\n",
        "#         kernel_size=hp.Choice('conv_3_kernel', values = [3,5,7]),\n",
        "#         activation='relu')(x5)\n",
        "#   x7 = Dropout(0.3)(x6)       \n",
        "#   x8 = keras.layers.BatchNormalization()(x7)\n",
        "#   x9 = Flatten()(x1)\n",
        "#   output = Dense(10, activation='softmax')(x9)\n",
        "#   model = Model(input, output)\n",
        "\n",
        "  \n",
        "#   model.compile(optimizer=keras.optimizers.Adam(hp.Choice('learning_rate', values=[1e-2, 1e-3, 2e-3,3e-3])),\n",
        "#               loss='sparse_categorical_crossentropy',\n",
        "#               metrics=['accuracy'])\n",
        "  \n",
        "  # return model"
      ],
      "metadata": {
        "id": "RuTUWHKxkQru"
      },
      "execution_count": 84,
      "outputs": []
    },
    {
      "cell_type": "markdown",
      "source": [
        "## let's Build Seqential Model."
      ],
      "metadata": {
        "id": "cHoYTqvzlJpO"
      }
    },
    {
      "cell_type": "code",
      "source": [
        "def build_model2(hp):  \n",
        "  model = keras.Sequential([\n",
        "    keras.layers.Conv2D(\n",
        "        # Tune number of fliter and kernel size\n",
        "        filters=hp.Int('conv_1_filter', min_value=32, max_value=144, step=16),\n",
        "        kernel_size=hp.Choice('conv_1_kernel', values = [3,5,7]),\n",
        "        activation='relu',\n",
        "        input_shape=(28,28,1)\n",
        "    ),\n",
        "    keras.layers.BatchNormalization(),\n",
        "    keras.layers.Conv2D(\n",
        "        # Tune number of fliter and kernel size\n",
        "        filters=hp.Int('conv_2_filter', min_value=32, max_value=128, step=16),\n",
        "        kernel_size=hp.Choice('conv_2_kernel', values = [3,5,7]),\n",
        "        activation='relu'\n",
        "    ),\n",
        "    # Tune Dropout Ratio\n",
        "    keras.layers.Dropout(hp.Choice('dropout_value', values = [0.3,0.5])),\n",
        "    keras.layers.BatchNormalization(),\n",
        "    keras.layers.Conv2D(\n",
        "        # Tune number of fliter and kernel size\n",
        "        filters=hp.Int('conv_3_filter', min_value=32, max_value=64, step=16),\n",
        "        kernel_size=hp.Choice('conv_3_kernel', values = [3,5,7]),\n",
        "        activation='relu'\n",
        "    ),\n",
        "    # Tune Dropout Ratio\n",
        "    keras.layers.Dropout(hp.Choice('dropout_value', values = [0.3,0.5])),\n",
        "    keras.layers.BatchNormalization(),\n",
        "    keras.layers.Flatten(),\n",
        "    # Tune number of units\n",
        "    keras.layers.Dense(\n",
        "        units=hp.Int('dense_1_units', min_value=32, max_value=128, step=16),\n",
        "        activation='relu'\n",
        "    ),\n",
        "    keras.layers.Dense(10, activation='softmax')\n",
        "  ])\n",
        "\n",
        "  model.compile(optimizer=keras.optimizers.Adam(hp.Choice('learning_rate', values=[1e-2, 1e-3])), # tune learning rate\n",
        "              loss='sparse_categorical_crossentropy',\n",
        "              metrics=['accuracy'])\n",
        "  \n",
        "  return model"
      ],
      "metadata": {
        "id": "fSwtbhQYlfoe"
      },
      "execution_count": 14,
      "outputs": []
    },
    {
      "cell_type": "code",
      "source": [
        "tuner_search2=RandomSearch(build_model2,\n",
        "                          objective='val_accuracy',\n",
        "                          max_trials=5,directory='Tunne output',project_name=\"Tunne Mnist Fashion\",overwrite=True)"
      ],
      "metadata": {
        "id": "peJ3wSzf_Xck"
      },
      "execution_count": 15,
      "outputs": []
    },
    {
      "cell_type": "code",
      "source": [
        "tuner_search2.search(train_images,train_labels,epochs=3,validation_split=0.1) "
      ],
      "metadata": {
        "colab": {
          "base_uri": "https://localhost:8080/"
        },
        "id": "ZI0rsJP5_Xhm",
        "outputId": "4c5c4ce4-85f4-47df-eb4e-2de4c043f942"
      },
      "execution_count": 16,
      "outputs": [
        {
          "output_type": "stream",
          "name": "stdout",
          "text": [
            "Trial 5 Complete [00h 01m 23s]\n",
            "val_accuracy: 0.8629999756813049\n",
            "\n",
            "Best val_accuracy So Far: 0.9001666903495789\n",
            "Total elapsed time: 00h 07m 48s\n",
            "INFO:tensorflow:Oracle triggered exit\n"
          ]
        }
      ]
    },
    {
      "cell_type": "code",
      "source": [
        "tunned_model=tuner_search2.get_best_models(num_models=1)[0]"
      ],
      "metadata": {
        "id": "QVgfIku3_Xke"
      },
      "execution_count": 17,
      "outputs": []
    },
    {
      "cell_type": "code",
      "source": [
        "history = tunned_model.fit(train_images, train_labels, epochs=10, validation_split=0.1, initial_epoch=3)"
      ],
      "metadata": {
        "colab": {
          "base_uri": "https://localhost:8080/"
        },
        "id": "G3BE-aIzrRPd",
        "outputId": "c1124a39-cba1-436e-f52a-c9a83de2525a"
      },
      "execution_count": 19,
      "outputs": [
        {
          "output_type": "stream",
          "name": "stdout",
          "text": [
            "Epoch 4/10\n",
            "1688/1688 [==============================] - 26s 15ms/step - loss: 0.2515 - accuracy: 0.9065 - val_loss: 0.2752 - val_accuracy: 0.8993\n",
            "Epoch 5/10\n",
            "1688/1688 [==============================] - 24s 14ms/step - loss: 0.2323 - accuracy: 0.9142 - val_loss: 0.2408 - val_accuracy: 0.9142\n",
            "Epoch 6/10\n",
            "1688/1688 [==============================] - 24s 14ms/step - loss: 0.2138 - accuracy: 0.9212 - val_loss: 0.2302 - val_accuracy: 0.9182\n",
            "Epoch 7/10\n",
            "1688/1688 [==============================] - 24s 14ms/step - loss: 0.1981 - accuracy: 0.9265 - val_loss: 0.2416 - val_accuracy: 0.9173\n",
            "Epoch 8/10\n",
            "1688/1688 [==============================] - 24s 14ms/step - loss: 0.1868 - accuracy: 0.9303 - val_loss: 0.2346 - val_accuracy: 0.9217\n",
            "Epoch 9/10\n",
            "1688/1688 [==============================] - 24s 14ms/step - loss: 0.1771 - accuracy: 0.9349 - val_loss: 0.2341 - val_accuracy: 0.9202\n",
            "Epoch 10/10\n",
            "1688/1688 [==============================] - 24s 14ms/step - loss: 0.1653 - accuracy: 0.9382 - val_loss: 0.2462 - val_accuracy: 0.9140\n"
          ]
        }
      ]
    },
    {
      "cell_type": "code",
      "source": [
        "history2 = tunned_model.fit(train_images, train_labels, epochs=5, validation_split=0.1)"
      ],
      "metadata": {
        "colab": {
          "base_uri": "https://localhost:8080/"
        },
        "id": "1FvfQ4GirWSl",
        "outputId": "bf117e2c-00a3-407f-a2fd-997cf497b34f"
      },
      "execution_count": 21,
      "outputs": [
        {
          "output_type": "stream",
          "name": "stdout",
          "text": [
            "Epoch 1/5\n",
            "1688/1688 [==============================] - 24s 14ms/step - loss: 0.1562 - accuracy: 0.9421 - val_loss: 0.2455 - val_accuracy: 0.9240\n",
            "Epoch 2/5\n",
            "1688/1688 [==============================] - 24s 14ms/step - loss: 0.1504 - accuracy: 0.9437 - val_loss: 0.2334 - val_accuracy: 0.9190\n",
            "Epoch 3/5\n",
            "1688/1688 [==============================] - 25s 15ms/step - loss: 0.1465 - accuracy: 0.9459 - val_loss: 0.2349 - val_accuracy: 0.9200\n",
            "Epoch 4/5\n",
            "1688/1688 [==============================] - 24s 14ms/step - loss: 0.1380 - accuracy: 0.9478 - val_loss: 0.2218 - val_accuracy: 0.9242\n",
            "Epoch 5/5\n",
            "1688/1688 [==============================] - 24s 14ms/step - loss: 0.1312 - accuracy: 0.9523 - val_loss: 0.2332 - val_accuracy: 0.9213\n"
          ]
        }
      ]
    },
    {
      "cell_type": "code",
      "source": [
        "tunned_model.save(\"model.hdf5\")"
      ],
      "metadata": {
        "id": "jPwBgSrsXFUf"
      },
      "execution_count": 30,
      "outputs": []
    },
    {
      "cell_type": "code",
      "source": [
        "epochs = 7\n",
        "history_dict = history.history\n",
        "plt.clf()\n",
        "acc_values = history_dict['accuracy']\n",
        "val_acc_values = history_dict['val_accuracy']\n",
        "plt.plot(range(epochs), acc_values, 'bo', label='Training acc')\n",
        "plt.plot(range(epochs), val_acc_values, 'b', label='Validation acc')\n",
        "plt.title('Training and validation accuracy')\n",
        "plt.xlabel('Epochs')\n",
        "plt.ylabel('Loss')\n",
        "plt.legend()\n",
        "plt.show()\n",
        "print(acc_values, \"\\n\",val_acc_values)"
      ],
      "metadata": {
        "colab": {
          "base_uri": "https://localhost:8080/",
          "height": 327
        },
        "id": "5olpKNYKSpz3",
        "outputId": "7c5a20c9-d4c2-4035-8f2f-6af56191b312"
      },
      "execution_count": 28,
      "outputs": [
        {
          "output_type": "display_data",
          "data": {
            "image/png": "[encoded data removed]",
            "text/plain": [
              "<Figure size 432x288 with 1 Axes>"
            ]
          },
          "metadata": {
            "needs_background": "light"
          }
        },
        {
          "output_type": "stream",
          "name": "stdout",
          "text": [
            "[0.9065185189247131, 0.9141666889190674, 0.9212222099304199, 0.926537036895752, 0.9302777647972107, 0.9348703622817993, 0.9382407665252686] \n",
            " [0.8993333578109741, 0.9141666889190674, 0.9181666374206543, 0.9173333048820496, 0.92166668176651, 0.9201666712760925, 0.9139999747276306]\n"
          ]
        }
      ]
    },
    {
      "cell_type": "code",
      "source": [
        "epochs = 7\n",
        "history_dict = history.history\n",
        "plt.clf()\n",
        "loss_values = history_dict['loss']\n",
        "val_loss_values = history_dict['val_loss']\n",
        "plt.plot(range(epochs), loss_values, 'bo', label='Training loss')\n",
        "plt.plot(range(epochs), val_loss_values, 'b', label='Validation loss')\n",
        "plt.title('Training and validation loss')\n",
        "plt.xlabel('Epochs')\n",
        "plt.ylabel('Loss')\n",
        "plt.legend()\n",
        "plt.show()"
      ],
      "metadata": {
        "colab": {
          "base_uri": "https://localhost:8080/",
          "height": 295
        },
        "id": "5rsjvckzXZoq",
        "outputId": "4d621858-a12d-4676-ad14-45005380b1b0"
      },
      "execution_count": 29,
      "outputs": [
        {
          "output_type": "display_data",
          "data": {
            "image/png": "[encoded data removed]",
            "text/plain": [
              "<Figure size 432x288 with 1 Axes>"
            ]
          },
          "metadata": {
            "needs_background": "light"
          }
        }
      ]
    },
    {
      "cell_type": "code",
      "source": [
        ""
      ],
      "metadata": {
        "id": "0Rr0Ui8gjtJu"
      },
      "execution_count": 31,
      "outputs": []
    },
    {
      "cell_type": "markdown",
      "source": [
        "**Our Second Model have low overfitting as compare to first Model and have a Accuracy of 92% so Keras_Tuner is a good tool for Hyperparameter Tunning but it doen't support Functional Modeling because i personaly try a lot but it doesn't work.**"
      ],
      "metadata": {
        "id": "LLckJy6lYcLl"
      }
    }
  ]
}