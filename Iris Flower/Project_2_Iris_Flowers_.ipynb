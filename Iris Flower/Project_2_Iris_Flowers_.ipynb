{
  "nbformat": 4,
  "nbformat_minor": 0,
  "metadata": {
    "colab": {
      "name": "Project 2 Iris Flowers .ipynb",
      "provenance": [],
      "collapsed_sections": []
    },
    "kernelspec": {
      "name": "python3",
      "display_name": "Python 3"
    },
    "accelerator": "GPU"
  },
  "cells": [
    {
      "cell_type": "code",
      "metadata": {
        "id": "W4Tb7npAnSan",
        "colab_type": "code",
        "outputId": "1f01eaed-9bb6-4b69-ea3c-d7ddb740d74a",
        "colab": {
          "base_uri": "https://localhost:8080/",
          "height": 80
        }
      },
      "source": [
        "import tensorflow as tf\n",
        "print(tf.__version__)"
      ],
      "execution_count": 1,
      "outputs": [
        {
          "output_type": "display_data",
          "data": {
            "text/html": [
              "<p style=\"color: red;\">\n",
              "The default version of TensorFlow in Colab will soon switch to TensorFlow 2.x.<br>\n",
              "We recommend you <a href=\"https://www.tensorflow.org/guide/migrate\" target=\"_blank\">upgrade</a> now \n",
              "or ensure your notebook will continue to use TensorFlow 1.x via the <code>%tensorflow_version 1.x</code> magic:\n",
              "<a href=\"https://colab.research.google.com/notebooks/tensorflow_version.ipynb\" target=\"_blank\">more info</a>.</p>\n"
            ],
            "text/plain": [
              "<IPython.core.display.HTML object>"
            ]
          },
          "metadata": {
            "tags": []
          }
        },
        {
          "output_type": "stream",
          "text": [
            "1.15.0\n"
          ],
          "name": "stdout"
        }
      ]
    },
    {
      "cell_type": "code",
      "metadata": {
        "id": "XWH_Qh-P9MyA",
        "colab_type": "code",
        "colab": {
          "base_uri": "https://localhost:8080/",
          "height": 34
        },
        "outputId": "09d3941b-0cfa-44ff-a443-c195c6ae6fd1"
      },
      "source": [
        "import numpy\n",
        "import pandas\n",
        "from keras.models import Sequential\n",
        "from keras.layers import Dense\n",
        "from keras.wrappers.scikit_learn import KerasClassifier\n",
        "from keras.utils import np_utils\n",
        "from sklearn.model_selection import cross_val_score\n",
        "from sklearn.model_selection import KFold\n",
        "from sklearn.preprocessing import LabelEncoder\n",
        "from sklearn.pipeline import Pipeline\n",
        "import matplotlib.pyplot as plt\n"
      ],
      "execution_count": 2,
      "outputs": [
        {
          "output_type": "stream",
          "text": [
            "Using TensorFlow backend.\n"
          ],
          "name": "stderr"
        }
      ]
    },
    {
      "cell_type": "code",
      "metadata": {
        "id": "PtN6CiabodKy",
        "colab_type": "code",
        "colab": {}
      },
      "source": [
        "# fix random seed for reproducibility\n",
        "seed = 7\n",
        "numpy.random.seed(seed)\n"
      ],
      "execution_count": 0,
      "outputs": []
    },
    {
      "cell_type": "code",
      "metadata": {
        "id": "RJONN1orByiE",
        "colab_type": "code",
        "colab": {}
      },
      "source": [
        "#load data\n",
        "dataframe = pandas.read_csv(\"iris.csv\",header=None)\n",
        "dataset = dataframe.values\n",
        "X = dataset[:,0:4]\n",
        "Y = dataset[:,4:5]"
      ],
      "execution_count": 0,
      "outputs": []
    },
    {
      "cell_type": "code",
      "metadata": {
        "id": "h4fu2MiPGg91",
        "colab_type": "code",
        "outputId": "8012debd-feed-421f-ff50-7ab48c77b2d1",
        "colab": {
          "base_uri": "https://localhost:8080/",
          "height": 224
        }
      },
      "source": [
        "encoder = LabelEncoder()\n",
        "encoder.fit(Y)\n",
        "encoded_Y = encoder.transform(Y)\n",
        "encoded_Y\n",
        "# same work but in short way \n",
        "#encoded_Y = encoder.fit_transform(Y) \n"
      ],
      "execution_count": 6,
      "outputs": [
        {
          "output_type": "stream",
          "text": [
            "/usr/local/lib/python3.6/dist-packages/sklearn/preprocessing/_label.py:235: DataConversionWarning: A column-vector y was passed when a 1d array was expected. Please change the shape of y to (n_samples, ), for example using ravel().\n",
            "  y = column_or_1d(y, warn=True)\n",
            "/usr/local/lib/python3.6/dist-packages/sklearn/preprocessing/_label.py:268: DataConversionWarning: A column-vector y was passed when a 1d array was expected. Please change the shape of y to (n_samples, ), for example using ravel().\n",
            "  y = column_or_1d(y, warn=True)\n"
          ],
          "name": "stderr"
        },
        {
          "output_type": "execute_result",
          "data": {
            "text/plain": [
              "array([0, 0, 0, 0, 0, 0, 0, 0, 0, 0, 0, 0, 0, 0, 0, 0, 0, 0, 0, 0, 0, 0,\n",
              "       0, 0, 0, 0, 0, 0, 0, 0, 0, 0, 0, 0, 0, 0, 0, 0, 0, 0, 0, 0, 0, 0,\n",
              "       0, 0, 0, 0, 0, 0, 1, 1, 1, 1, 1, 1, 1, 1, 1, 1, 1, 1, 1, 1, 1, 1,\n",
              "       1, 1, 1, 1, 1, 1, 1, 1, 1, 1, 1, 1, 1, 1, 1, 1, 1, 1, 1, 1, 1, 1,\n",
              "       1, 1, 1, 1, 1, 1, 1, 1, 1, 1, 1, 1, 2, 2, 2, 2, 2, 2, 2, 2, 2, 2,\n",
              "       2, 2, 2, 2, 2, 2, 2, 2, 2, 2, 2, 2, 2, 2, 2, 2, 2, 2, 2, 2, 2, 2,\n",
              "       2, 2, 2, 2, 2, 2, 2, 2, 2, 2, 2, 2, 2, 2, 2, 2, 2, 2])"
            ]
          },
          "metadata": {
            "tags": []
          },
          "execution_count": 6
        }
      ]
    },
    {
      "cell_type": "code",
      "metadata": {
        "id": "AQk8MnBfLLfy",
        "colab_type": "code",
        "colab": {}
      },
      "source": [
        "# convert integers to dummy variables (i.e. one hot encoded)\n",
        "dummy_y = np_utils.to_categorical(encoded_Y)"
      ],
      "execution_count": 0,
      "outputs": []
    },
    {
      "cell_type": "markdown",
      "metadata": {
        "id": "s6zWz2yrYAS5",
        "colab_type": "text"
      },
      "source": [
        "**BASELINE MODEL**"
      ]
    },
    {
      "cell_type": "code",
      "metadata": {
        "id": "OdCr1asOrh8K",
        "colab_type": "code",
        "colab": {}
      },
      "source": [
        "from tensorflow.keras import models\n",
        "from tensorflow.keras import layers\n",
        "# define baseline model\n",
        "def baseline_model():\n",
        "  model = models.Sequential()\n",
        "  model.add(layers.Dense(15,input_shape=(4,),activation=\"relu\"))\n",
        "  model.add(layers.Dense(3,activation=\"softmax\"))\n",
        "  model.compile(loss=\"categorical_crossentropy\",optimizer=\"adam\",metrics=[\"accuracy\"])\n",
        "  return model"
      ],
      "execution_count": 0,
      "outputs": []
    },
    {
      "cell_type": "code",
      "metadata": {
        "id": "ZAZJy5WGW53U",
        "colab_type": "code",
        "colab": {}
      },
      "source": [
        "history1 = baseline_model().fit(X ,dummy_y ,epochs=200 , batch_size=5 , verbose = 0) "
      ],
      "execution_count": 0,
      "outputs": []
    },
    {
      "cell_type": "code",
      "metadata": {
        "id": "wpG6s90eRGLF",
        "colab_type": "code",
        "colab": {}
      },
      "source": [
        ""
      ],
      "execution_count": 0,
      "outputs": []
    },
    {
      "cell_type": "code",
      "metadata": {
        "id": "x2gKA0uSFW4O",
        "colab_type": "code",
        "outputId": "0f5d56ed-1b38-4b30-d7aa-3e9f9217995b",
        "colab": {
          "base_uri": "https://localhost:8080/",
          "height": 34
        }
      },
      "source": [
        "history_dict1 = history1.history\n",
        "history_dict1.keys()\n",
        "# accuracy and loss\n",
        "acc = history_dict1[\"acc\"]\n",
        "bl_model_acc = max(acc)              # Maximum accuracy of baseline model\n",
        "\n",
        "loss = history_dict1[\"loss\"]\n",
        "bl_model_loss = min(loss)\n",
        "\n",
        "print(\"Maximum accuracy of base line model is \", bl_model_acc , \"and minimum loss is\" , bl_model_loss )\n"
      ],
      "execution_count": 0,
      "outputs": [
        {
          "output_type": "stream",
          "text": [
            "Maximum accuracy of base line model is  0.98 and minimum loss is 0.08810014907891552\n"
          ],
          "name": "stdout"
        }
      ]
    },
    {
      "cell_type": "markdown",
      "metadata": {
        "id": "MhvmxdOzYN-e",
        "colab_type": "text"
      },
      "source": [
        "***TUNED MODEL***"
      ]
    },
    {
      "cell_type": "code",
      "metadata": {
        "id": "Ft-ADc1iCr6a",
        "colab_type": "code",
        "colab": {}
      },
      "source": [
        "from tensorflow.keras import models\n",
        "from tensorflow.keras import layers\n",
        "# define baseline model\n",
        "def tunedmodel():\n",
        "  model = models.Sequential()\n",
        "  model.add(layers.Dense(150,input_shape=(4,),activation=\"relu\"))\n",
        "  model.add(layers.Dropout(0.5))\n",
        "  model.add(layers.Dense(55))\n",
        "  model.add(layers.Dense(40))\n",
        "  model.add(layers.Dense(10))\n",
        "  model.add(layers.Dense(3,activation=\"softmax\"))\n",
        "  model.compile(loss=\"categorical_crossentropy\",optimizer=\"adam\",metrics=[\"accuracy\"])\n",
        "  return model\n",
        "history2 = tunedmodel().fit(X ,dummy_y ,epochs=200 , batch_size=5 , verbose = 0)"
      ],
      "execution_count": 0,
      "outputs": []
    },
    {
      "cell_type": "code",
      "metadata": {
        "id": "riuMNtRyNyOB",
        "colab_type": "code",
        "outputId": "3d4b8c8b-9d0a-4666-d645-815265f05931",
        "colab": {
          "base_uri": "https://localhost:8080/",
          "height": 34
        }
      },
      "source": [
        "# accuracy and loss of tuned model\n",
        "acc = history2.history[\"acc\"]\n",
        "tuned_model_acc = max(acc)             # maximum accuracy\n",
        "loss = history2.history[\"loss\"]\n",
        "tuned_model_loss = min(loss)          # minimuum loss\n",
        "print(\"Minimum loss of tuned model is \" ,tuned_model_loss , \", Maximum acc of tuned model is\" ,tuned_model_acc )"
      ],
      "execution_count": 0,
      "outputs": [
        {
          "output_type": "stream",
          "text": [
            "Minimum loss of tuned model is  0.04491651079733856 , Maximum acc of tuned model is 0.99333334\n"
          ],
          "name": "stdout"
        }
      ]
    },
    {
      "cell_type": "code",
      "metadata": {
        "id": "ZlC0hMXwRwfh",
        "colab_type": "code",
        "colab": {}
      },
      "source": [
        "\n"
      ],
      "execution_count": 0,
      "outputs": []
    },
    {
      "cell_type": "code",
      "metadata": {
        "id": "hKH6-fTwGJQc",
        "colab_type": "code",
        "colab": {}
      },
      "source": [
        "\n",
        "\n"
      ],
      "execution_count": 0,
      "outputs": []
    },
    {
      "cell_type": "code",
      "metadata": {
        "id": "evZKO-8dCxNk",
        "colab_type": "code",
        "outputId": "b877e446-4c59-41f2-9190-504d8650e76e",
        "colab": {
          "base_uri": "https://localhost:8080/",
          "height": 295
        }
      },
      "source": [
        "#Plotting the training and validation accuracy\n",
        "plt.clf()\n",
        "bl_acc = history_dict1['acc']\n",
        "tuned_acc = history_dict2['acc']\n",
        "epochs = range(1, len(bl_acc) + 1)\n",
        "plt.plot(epochs, bl_acc, 'bo', label=' baseline model acc')\n",
        "plt.plot(epochs, tuned_acc, 'r-', label='tuned model acc')\n",
        "plt.title('baseline and tuned accuracy')\n",
        "plt.xlabel('Epochs')\n",
        "plt.ylabel('acc')\n",
        "plt.legend()\n",
        "plt.show()\n"
      ],
      "execution_count": 0,
      "outputs": [
        {
          "output_type": "display_data",
          "data": {
            "image/png": "[encoded data removed]",
            "text/plain": [
              "<Figure size 432x288 with 1 Axes>"
            ]
          },
          "metadata": {
            "tags": []
          }
        }
      ]
    },
    {
      "cell_type": "code",
      "metadata": {
        "id": "mUcMcSG7hNuh",
        "colab_type": "code",
        "colab": {}
      },
      "source": [
        "# k fold valodation using sklearn libraries\n",
        "estimator = KerasClassifier(build_fn=baseline_model, epochs=200, batch_size=5, verbose=0)"
      ],
      "execution_count": 0,
      "outputs": []
    },
    {
      "cell_type": "code",
      "metadata": {
        "id": "RqJ2QoAohRXe",
        "colab_type": "code",
        "colab": {}
      },
      "source": [
        "kfold = KFold(n_splits=10, shuffle=True, random_state=seed)"
      ],
      "execution_count": 0,
      "outputs": []
    },
    {
      "cell_type": "code",
      "metadata": {
        "id": "rXMlfY5lMobA",
        "colab_type": "code",
        "outputId": "843c6e62-60a1-4b4e-d02b-7b261616060e",
        "colab": {
          "base_uri": "https://localhost:8080/",
          "height": 34
        }
      },
      "source": [
        "results = cross_val_score(estimator, X, dummy_y, cv=kfold)\n",
        "print(\"Baseline: %.2f%% (%.2f%%)\" % (results.mean()*100, results.std()*100))\n"
      ],
      "execution_count": 0,
      "outputs": [
        {
          "output_type": "stream",
          "text": [
            "Baseline: 96.00% (5.33%)\n"
          ],
          "name": "stdout"
        }
      ]
    },
    {
      "cell_type": "code",
      "metadata": {
        "id": "5c47IJ6ypkNZ",
        "colab_type": "code",
        "colab": {}
      },
      "source": [
        "\n"
      ],
      "execution_count": 0,
      "outputs": []
    },
    {
      "cell_type": "markdown",
      "metadata": {
        "id": "DD5Rdy2PhahK",
        "colab_type": "text"
      },
      "source": [
        "***k fold validation without using sklearn libraries***"
      ]
    },
    {
      "cell_type": "code",
      "metadata": {
        "id": "f5Ce2szsdUkD",
        "colab_type": "code",
        "colab": {
          "base_uri": "https://localhost:8080/",
          "height": 187
        },
        "outputId": "1a271a7c-2c9c-4b4d-82e7-a6aafb4a6c30"
      },
      "source": [
        "k = 5\n",
        "num_val_samples = len(X) // 5\n",
        "num_epochs = 100\n",
        "all_scores = numpy.array([])\n",
        "\n",
        "for i in range(k):\n",
        "  print('processing fold # ', i+1)\n",
        "  # prepare the validation data: data from partition # k\n",
        "  val_data = X[i * num_val_samples: (i + 1) * num_val_samples]\n",
        "  val_targets = dummy_y[i * num_val_samples: (i + 1) * num_val_samples]\n",
        "  \n",
        "  # prepare the training data: data from data - k\n",
        "  partial_train_data = numpy.concatenate(                    \n",
        "      [X[:i * num_val_samples],\n",
        "      X[(i + 1 ) * num_val_samples:]],\n",
        "  axis = 0)\n",
        "  partial_train_targets = numpy.concatenate(\n",
        "      [dummy_y[:i * num_val_samples],\n",
        "      dummy_y[(i + 1 ) * num_val_samples:]],\n",
        "  axis = 0)\n",
        "  \n",
        "  # Build the Keras Models (already commpiled)\n",
        "  model = tunedmodel()\n",
        "  \n",
        "  # Train the model (in silence mode, verbose = 0)\n",
        "  history4 = model.fit(partial_train_data, partial_train_targets, epochs = num_epochs, batch_size = 5, verbose = 0)\n",
        "  \n",
        "  # Evaluate the model on the validation data\n",
        "  val_binary_crossentropy, val_adam = model.evaluate(val_data, val_targets, verbose = 0)\n",
        "  \n",
        "  all_scores = numpy.append(all_scores, val_adam)\n",
        "  print(\"K-Fold Witout Scikit-learn : (Accuracy)Mean %.2f%% (Error)Std (%.2f%%)\" % (all_scores.mean()*100, all_scores.std()*100))"
      ],
      "execution_count": 37,
      "outputs": [
        {
          "output_type": "stream",
          "text": [
            "processing fold #  1\n",
            "K-Fold Witout Scikit-learn : (Accuracy)Mean 100.00% (Error)Std (0.00%)\n",
            "processing fold #  2\n",
            "K-Fold Witout Scikit-learn : (Accuracy)Mean 100.00% (Error)Std (0.00%)\n",
            "processing fold #  3\n",
            "K-Fold Witout Scikit-learn : (Accuracy)Mean 98.89% (Error)Std (1.57%)\n",
            "processing fold #  4\n",
            "K-Fold Witout Scikit-learn : (Accuracy)Mean 99.17% (Error)Std (1.44%)\n",
            "processing fold #  5\n",
            "K-Fold Witout Scikit-learn : (Accuracy)Mean 99.33% (Error)Std (1.33%)\n"
          ],
          "name": "stdout"
        }
      ]
    },
    {
      "cell_type": "code",
      "metadata": {
        "id": "NOsGBzgwrKXn",
        "colab_type": "code",
        "colab": {}
      },
      "source": [
        ""
      ],
      "execution_count": 0,
      "outputs": []
    },
    {
      "cell_type": "code",
      "metadata": {
        "id": "Ri7wivaLslF9",
        "colab_type": "code",
        "colab": {}
      },
      "source": [
        ""
      ],
      "execution_count": 0,
      "outputs": []
    },
    {
      "cell_type": "code",
      "metadata": {
        "id": "hyT4aPvgcM32",
        "colab_type": "code",
        "colab": {}
      },
      "source": [
        ""
      ],
      "execution_count": 0,
      "outputs": []
    }
  ]
}