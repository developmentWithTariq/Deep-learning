{
  "nbformat": 4,
  "nbformat_minor": 0,
  "metadata": {
    "colab": {
      "name": "houseP project",
      "provenance": [],
      "collapsed_sections": [],
      "include_colab_link": true
    },
    "kernelspec": {
      "name": "python2",
      "display_name": "Python 2"
    },
    "accelerator": "GPU"
  },
  "cells": [
    {
      "cell_type": "markdown",
      "metadata": {
        "id": "view-in-github",
        "colab_type": "text"
      },
      "source": [
        "<a href=\"https://colab.research.google.com/github/Tariq15994/Deep-learning/blob/master/houseP_project.ipynb\" target=\"_parent\"><img src=\"https://colab.research.google.com/assets/colab-badge.svg\" alt=\"Open In Colab\"/></a>"
      ]
    },
    {
      "cell_type": "markdown",
      "metadata": {
        "id": "3QavZpkqS9hP",
        "colab_type": "text"
      },
      "source": [
        "House_Predictions using Boston_Housing Dataset with Regression Model"
      ]
    },
    {
      "cell_type": "code",
      "metadata": {
        "id": "EtLMgAQ3EiKe",
        "colab_type": "code",
        "colab": {}
      },
      "source": [
        "import numpy\n",
        "import pandas\n",
        "from tensorflow.keras.models import Sequential\n",
        "from tensorflow.keras.layers import Dense\n",
        "from tensorflow.keras.wrappers.scikit_learn import KerasClassifier\n",
        "from sklearn.model_selection import cross_val_score\n",
        "from sklearn.preprocessing import LabelEncoder\n",
        "from sklearn.model_selection import StratifiedKFold\n",
        "from sklearn.preprocessing import StandardScaler\n",
        "from sklearn.pipeline import Pipeline"
      ],
      "execution_count": 0,
      "outputs": []
    },
    {
      "cell_type": "code",
      "metadata": {
        "id": "HD0SrKG0EbnA",
        "colab_type": "code",
        "colab": {}
      },
      "source": [
        "from keras.datasets import boston_housing\n",
        "(train_data, train_targets), (test_data, test_targets) = boston_housing.load_data()\n"
      ],
      "execution_count": 0,
      "outputs": []
    },
    {
      "cell_type": "code",
      "metadata": {
        "colab_type": "code",
        "id": "rkGACCxlAuoh",
        "outputId": "651f7a9e-d591-4f69-ec64-ecd2819695ae",
        "colab": {
          "base_uri": "https://localhost:8080/",
          "height": 34
        }
      },
      "source": [
        "# checking the shape of data\n",
        "train_data.shape"
      ],
      "execution_count": 0,
      "outputs": [
        {
          "output_type": "execute_result",
          "data": {
            "text/plain": [
              "(404, 13)"
            ]
          },
          "metadata": {
            "tags": []
          },
          "execution_count": 16
        }
      ]
    },
    {
      "cell_type": "code",
      "metadata": {
        "colab_type": "code",
        "id": "7Jg3WxZUAvFN",
        "outputId": "8d850c4f-ec28-411b-a9aa-49ba82f106dd",
        "colab": {
          "base_uri": "https://localhost:8080/",
          "height": 34
        }
      },
      "source": [
        "test_data.shape"
      ],
      "execution_count": 0,
      "outputs": [
        {
          "output_type": "execute_result",
          "data": {
            "text/plain": [
              "(102, 13)"
            ]
          },
          "metadata": {
            "tags": []
          },
          "execution_count": 17
        }
      ]
    },
    {
      "cell_type": "code",
      "metadata": {
        "colab_type": "code",
        "id": "EtfKLq0sAvJL",
        "outputId": "79446400-350e-4f84-bf8c-b531e5701983",
        "colab": {
          "base_uri": "https://localhost:8080/",
          "height": 238
        }
      },
      "source": [
        "train_data"
      ],
      "execution_count": 0,
      "outputs": [
        {
          "output_type": "execute_result",
          "data": {
            "text/plain": [
              "array([[1.23247e+00, 0.00000e+00, 8.14000e+00, ..., 2.10000e+01,\n",
              "        3.96900e+02, 1.87200e+01],\n",
              "       [2.17700e-02, 8.25000e+01, 2.03000e+00, ..., 1.47000e+01,\n",
              "        3.95380e+02, 3.11000e+00],\n",
              "       [4.89822e+00, 0.00000e+00, 1.81000e+01, ..., 2.02000e+01,\n",
              "        3.75520e+02, 3.26000e+00],\n",
              "       ...,\n",
              "       [3.46600e-02, 3.50000e+01, 6.06000e+00, ..., 1.69000e+01,\n",
              "        3.62250e+02, 7.83000e+00],\n",
              "       [2.14918e+00, 0.00000e+00, 1.95800e+01, ..., 1.47000e+01,\n",
              "        2.61950e+02, 1.57900e+01],\n",
              "       [1.43900e-02, 6.00000e+01, 2.93000e+00, ..., 1.56000e+01,\n",
              "        3.76700e+02, 4.38000e+00]])"
            ]
          },
          "metadata": {
            "tags": []
          },
          "execution_count": 18
        }
      ]
    },
    {
      "cell_type": "markdown",
      "metadata": {
        "id": "ww0zYNnEWff0",
        "colab_type": "text"
      },
      "source": [
        "### preparing the data \n",
        "### Normalizing the Data\n",
        "### feature-wise normalization i.e. (feature - mean)/ standard deviation using Numpy\n",
        "### Using Normalization, to prevent hetrogenous ranges feeding to a Neural Network or to feed homogenous range (each feature close to zero) to a NN."
      ]
    },
    {
      "cell_type": "code",
      "metadata": {
        "colab_type": "code",
        "id": "lf4jKXwtAvPc",
        "colab": {}
      },
      "source": [
        "mean = train_data.mean(axis=0)\n",
        "train_data -= mean\n",
        "std = train_data.std(axis=0) \n",
        "train_data /= std\n",
        "\n",
        "\n",
        "# Note: the quantities use for normalizing the test data, have been computed on train data (BEWARE: Never use computing on test data)\n",
        "\n",
        "test_data -= mean \n",
        "test_data /= std"
      ],
      "execution_count": 0,
      "outputs": []
    },
    {
      "cell_type": "code",
      "metadata": {
        "colab_type": "code",
        "id": "cviYzsImAvTw",
        "outputId": "b61447b8-9524-48c1-aeff-ca168c99843b",
        "colab": {
          "base_uri": "https://localhost:8080/",
          "height": 238
        }
      },
      "source": [
        "# checking normalized  train_data\n",
        "train_data"
      ],
      "execution_count": 0,
      "outputs": [
        {
          "output_type": "execute_result",
          "data": {
            "text/plain": [
              "array([[-0.27224633, -0.48361547, -0.43576161, ...,  1.14850044,\n",
              "         0.44807713,  0.8252202 ],\n",
              "       [-0.40342651,  2.99178419, -1.33391162, ..., -1.71818909,\n",
              "         0.43190599, -1.32920239],\n",
              "       [ 0.1249402 , -0.48361547,  1.0283258 , ...,  0.78447637,\n",
              "         0.22061726, -1.30850006],\n",
              "       ...,\n",
              "       [-0.40202987,  0.99079651, -0.7415148 , ..., -0.71712291,\n",
              "         0.07943894, -0.67776904],\n",
              "       [-0.17292018, -0.48361547,  1.24588095, ..., -1.71818909,\n",
              "        -0.98764362,  0.42083466],\n",
              "       [-0.40422614,  2.04394792, -1.20161456, ..., -1.30866202,\n",
              "         0.23317118, -1.15392266]])"
            ]
          },
          "metadata": {
            "tags": []
          },
          "execution_count": 20
        }
      ]
    },
    {
      "cell_type": "markdown",
      "metadata": {
        "id": "bTqLZ0yV3Cby",
        "colab_type": "text"
      },
      "source": [
        "### *Create Model*"
      ]
    },
    {
      "cell_type": "code",
      "metadata": {
        "colab_type": "code",
        "id": "sdgwSIRoAvNt",
        "colab": {}
      },
      "source": [
        "from keras import models\n",
        "from keras import layers\n",
        "\n",
        "# For Reusability, model is defined as a function.\n",
        "def build_model():\n",
        "  model = models.Sequential()\n",
        "  model.add(layers.Dense(13, activation =\"relu\" ,input_shape=(len(train_data[1]),)))\n",
        "  model.add(layers.Dense(1))   # No activation function\n",
        "  model.compile(optimizer='rmsprop', loss='mse' , metrics=['mae'])\n",
        "  return model"
      ],
      "execution_count": 0,
      "outputs": []
    },
    {
      "cell_type": "markdown",
      "metadata": {
        "id": "ZTLdnA8ffGKj",
        "colab_type": "text"
      },
      "source": [
        "# Validation Step : Using K-fold Cross-Validation Method "
      ]
    },
    {
      "cell_type": "code",
      "metadata": {
        "id": "GcrVDErv9SNT",
        "colab_type": "code",
        "outputId": "d8778351-8bab-4346-ca3f-d9feb664ab66",
        "colab": {
          "base_uri": "https://localhost:8080/",
          "height": 187
        }
      },
      "source": [
        "k = 10\n",
        "num_of_sample = len(train_data) // 10\n",
        "num_epochs = 100\n",
        "all_scores = numpy.array([]) \n",
        "for i in range(k):\n",
        "  print(\"Processing Fold \", i )\n",
        "  # prepare the validation data: data from partition # k\n",
        "  val_data = train_data[i * num_of_sample : (i + 1) * num_of_sample]\n",
        "  val_targets = train_targets[i * num_of_sample : (i +1) * num_of_sample]\n",
        "\n",
        "  # prepare the training data: data from data - k\n",
        "  partial_train_data = numpy.concatenate([train_data[ : i * num_of_sample] , train_data[(i + 1) * num_of_sample : ]], axis=0)\n",
        "  partial_train_targets = numpy.concatenate([train_targets[: i * num_of_sample] , train_targets[(i + 1) * num_of_sample : ]], axis=0)\n",
        "  \n",
        "  # Build the Keras Models (already commpiled)\n",
        "  model = build_model() \n",
        "  # Train the model (in silence mode, verbose = 0)\n",
        "  history1 = model.fit(partial_train_data, partial_train_targets, epochs = num_epochs , batch_size = 5 , verbose = 0)\n",
        "  # Evaluate the model on the validation data\n",
        "  val_mse , val_mae = model.evaluate(val_data, val_targets, verbose = 0)\n",
        "\n",
        "  all_scores =numpy.append(all_scores , val_mae)"
      ],
      "execution_count": 0,
      "outputs": [
        {
          "output_type": "stream",
          "text": [
            "('Processing Fold ', 0)\n",
            "('Processing Fold ', 1)\n",
            "('Processing Fold ', 2)\n",
            "('Processing Fold ', 3)\n",
            "('Processing Fold ', 4)\n",
            "('Processing Fold ', 5)\n",
            "('Processing Fold ', 6)\n",
            "('Processing Fold ', 7)\n",
            "('Processing Fold ', 8)\n",
            "('Processing Fold ', 9)\n"
          ],
          "name": "stdout"
        }
      ]
    },
    {
      "cell_type": "code",
      "metadata": {
        "id": "g5xwVAMVqOTe",
        "colab_type": "code",
        "outputId": "dbfdd9fe-3731-4b5e-bbb8-df131e8dff38",
        "colab": {
          "base_uri": "https://localhost:8080/",
          "height": 51
        }
      },
      "source": [
        "# checking all_scores\n",
        "all_scores"
      ],
      "execution_count": 0,
      "outputs": [
        {
          "output_type": "execute_result",
          "data": {
            "text/plain": [
              "array([2.50839763, 1.87771444, 2.50331221, 2.68824387, 2.34513593,\n",
              "       2.23643942, 2.51853919, 2.64422612, 3.76203594, 2.38394251])"
            ]
          },
          "metadata": {
            "tags": []
          },
          "execution_count": 23
        }
      ]
    },
    {
      "cell_type": "markdown",
      "metadata": {
        "id": "1REai3lGTRje",
        "colab_type": "text"
      },
      "source": [
        "# **Final Validation score**"
      ]
    },
    {
      "cell_type": "code",
      "metadata": {
        "id": "7Q9lNSzB7Q0I",
        "colab_type": "code",
        "outputId": "e56913ec-e6fc-4170-ae58-c68bc6ad99b1",
        "colab": {
          "base_uri": "https://localhost:8080/",
          "height": 34
        }
      },
      "source": [
        "# mean of all scores\n",
        "all_scores.mean()     # we are still off by USDp 2531 on average"
      ],
      "execution_count": 0,
      "outputs": [
        {
          "output_type": "execute_result",
          "data": {
            "text/plain": [
              "2.5312621212005615"
            ]
          },
          "metadata": {
            "tags": []
          },
          "execution_count": 30
        }
      ]
    },
    {
      "cell_type": "markdown",
      "metadata": {
        "id": "racPss4LqRez",
        "colab_type": "text"
      },
      "source": [
        "###  Let’s try training the network a bit longer: 500 epochs. To keep a record of how\n",
        "### well the model does at each epoch, you’ll modify the training loop to save the  perepoch validation score log."
      ]
    },
    {
      "cell_type": "code",
      "metadata": {
        "id": "4Qit2ojwK75I",
        "colab_type": "code",
        "colab": {}
      },
      "source": [
        "# For Reusability, model is defined as a function.\n",
        "def build_model():\n",
        "  model = models.Sequential()\n",
        "  model.add(layers.Dense(13, activation =\"relu\" ,input_shape=(len(train_data[1]),)))\n",
        "  model.add(layers.Dense(1))   # No activation function\n",
        "  model.compile(optimizer='rmsprop', loss='mse' , metrics=['mae'])\n",
        "  return model"
      ],
      "execution_count": 0,
      "outputs": []
    },
    {
      "cell_type": "code",
      "metadata": {
        "id": "zIMVogyw5gqc",
        "colab_type": "code",
        "outputId": "6af19f2f-fea4-4852-a147-9a9c25569a93",
        "colab": {
          "base_uri": "https://localhost:8080/",
          "height": 187
        }
      },
      "source": [
        "# on fresh compile model\n",
        "k = 10\n",
        "num_of_sample = len(train_data) // 10\n",
        "num_epochs = 500\n",
        "all_val_histories = []\n",
        "all_histories = []\n",
        "all_scores = numpy.array([]) \n",
        "for i in range(k):\n",
        "  print(\"Processing Fold \", i+1)\n",
        "  # prepare the validation data: data from partition # k\n",
        "  val_data = train_data[i * num_of_sample : (i + 1) * num_of_sample]\n",
        "  val_targets = train_targets[i * num_of_sample : (i +1) * num_of_sample]\n",
        "\n",
        "  # prepare the training data: data from data - k\n",
        "  partial_train_data = numpy.concatenate([train_data[ : i * num_of_sample] , train_data[(i + 1) * num_of_sample : ]], axis=0)\n",
        "  partial_train_targets = numpy.concatenate([train_targets[: i * num_of_sample] , train_targets[(i + 1) * num_of_sample : ]], axis=0)\n",
        "  \n",
        "  # Build the Keras Models (already commpiled)\n",
        "  model = build_model() \n",
        "  # Train the model (in silence mode, verbose = 0)\n",
        "  history2 = model.fit(partial_train_data, partial_train_targets, validation_data=(val_data, val_targets ) , epochs = num_epochs , batch_size = 5 , verbose = 0)\n",
        "  val_mae = history2.history[\"val_mean_absolute_error\"] \n",
        "  all_val_histories.append(val_mae)\n",
        "  mae = history2.history['mean_absolute_error']\n",
        "  all_histories.append(mae)"
      ],
      "execution_count": 0,
      "outputs": [
        {
          "output_type": "stream",
          "text": [
            "('Processing Fold ', 1)\n",
            "('Processing Fold ', 2)\n",
            "('Processing Fold ', 3)\n",
            "('Processing Fold ', 4)\n",
            "('Processing Fold ', 5)\n",
            "('Processing Fold ', 6)\n",
            "('Processing Fold ', 7)\n",
            "('Processing Fold ', 8)\n",
            "('Processing Fold ', 9)\n",
            "('Processing Fold ', 10)\n"
          ],
          "name": "stdout"
        }
      ]
    },
    {
      "cell_type": "code",
      "metadata": {
        "id": "iV6_F4_PHkmn",
        "colab_type": "code",
        "colab": {}
      },
      "source": [
        "# val_mae\n"
      ],
      "execution_count": 0,
      "outputs": []
    },
    {
      "cell_type": "code",
      "metadata": {
        "id": "h-OwrgNWqV14",
        "colab_type": "code",
        "colab": {}
      },
      "source": [
        "average_val_mae_history = [numpy.mean([x[i] for x in all_val_histories]) for i in range(num_epochs)]\n",
        "# average_val_mae_history\n",
        "average_mae_history  = [numpy.mean([x[i] for x in all_histories]) for i in range(num_epochs)]\n",
        "# average_mae_history"
      ],
      "execution_count": 0,
      "outputs": []
    },
    {
      "cell_type": "code",
      "metadata": {
        "id": "EeakPGUHrApz",
        "colab_type": "code",
        "outputId": "9c0efcd2-5a56-47df-abb0-006df29591a1",
        "colab": {
          "base_uri": "https://localhost:8080/",
          "height": 295
        }
      },
      "source": [
        "#Plotting the training and validation mae\n",
        "import matplotlib.pyplot as plt\n",
        "plt.clf()\n",
        "mae_values = average_mae_history             \n",
        "val_mae_values = average_val_mae_history  \n",
        "epochs = range(1 , len(mae_values) + 1) \n",
        "plt.plot(epochs, mae_values, 'r-', label='Training Mae')\n",
        "plt.plot(epochs, val_mae_values, 'b', label='Validation Mae')\n",
        "plt.title('Training and validation MAE')\n",
        "plt.xlabel('Epochs')\n",
        "plt.ylabel('acc')\n",
        "plt.legend()\n",
        "plt.show()"
      ],
      "execution_count": 0,
      "outputs": [
        {
          "output_type": "display_data",
          "data": {
            "image/png": "[encoded data removed]",
            "text/plain": [
              "<Figure size 432x288 with 1 Axes>"
            ]
          },
          "metadata": {
            "tags": []
          }
        }
      ]
    },
    {
      "cell_type": "markdown",
      "metadata": {
        "id": "sap46YUFjHPB",
        "colab_type": "text"
      },
      "source": [
        "### It may be a little difficult to see the plot, due to scaling issues and relatively high variance. Let’s do the following:\n",
        "###  Omit the first 10 data points, which are on a different scale than the rest of the curve.\n",
        "###  Replace each point with an exponential moving average of the previous points,to obtain a smooth curve."
      ]
    },
    {
      "cell_type": "code",
      "metadata": {
        "id": "7rijZGaOcw2_",
        "colab_type": "code",
        "outputId": "60f24c61-1e0e-455a-c8eb-151705a3cf12",
        "colab": {
          "base_uri": "https://localhost:8080/",
          "height": 283
        }
      },
      "source": [
        "def smooth_curve(points, factor=0.9):\n",
        "  smoothed_points = []\n",
        "  for point in points:\n",
        "    if smoothed_points:\n",
        "      previous = smoothed_points[-1]\n",
        "      smoothed_points.append(previous * factor + point * (1 - factor))\n",
        "    else:\n",
        "      smoothed_points.append(point)\n",
        "  return smoothed_points\n",
        "smooth_mae_history = smooth_curve(average_val_mae_history[10:])\n",
        "plt.plot(range(1, len(smooth_mae_history) + 1), smooth_mae_history)\n",
        "plt.xlabel('Epochs')\n",
        "plt.ylabel('Validation MAE')\n",
        "plt.show()"
      ],
      "execution_count": 0,
      "outputs": [
        {
          "output_type": "display_data",
          "data": {
            "image/png": "[encoded data removed]",
            "text/plain": [
              "<Figure size 432x288 with 1 Axes>"
            ]
          },
          "metadata": {
            "tags": []
          }
        }
      ]
    },
    {
      "cell_type": "markdown",
      "metadata": {
        "id": "DZowhlJAh0bC",
        "colab_type": "text"
      },
      "source": [
        "### Plotting validation scores and traning scores, excluding the first 10 data points"
      ]
    },
    {
      "cell_type": "code",
      "metadata": {
        "id": "6uWJBXRLJosa",
        "colab_type": "code",
        "outputId": "b343f01b-20d7-4daf-872d-30cc8ea6f27f",
        "colab": {
          "base_uri": "https://localhost:8080/",
          "height": 295
        }
      },
      "source": [
        "def smooth_curve(points, factor=0.9):\n",
        "  smoothed_points = []\n",
        "  for point in points:\n",
        "    if smoothed_points:\n",
        "      previous = smoothed_points[-1]\n",
        "      smoothed_points.append(previous * factor + point * (1 - factor))\n",
        "    else:\n",
        "      smoothed_points.append(point)\n",
        "  return smoothed_points\n",
        "smooth_mae_history = smooth_curve(average_mae_history[10:])\n",
        "smooth_val_mae_history = smooth_curve(average_val_mae_history[10:])\n",
        "plt.plot(range(1, len(smooth_mae_history) + 1), smooth_mae_history , 'b--' , label=\"Traning Mae\")\n",
        "plt.plot(range(1, len(smooth_val_mae_history) + 1), smooth_val_mae_history , label='Validation Mae' )\n",
        "plt.title('Smooth Training and validation Curve ')\n",
        "plt.xlabel('Epochs')\n",
        "plt.ylabel('Validation MAE')\n",
        "plt.show()"
      ],
      "execution_count": 0,
      "outputs": [
        {
          "output_type": "display_data",
          "data": {
            "image/png": "[encoded data removed]",
            "text/plain": [
              "<Figure size 432x288 with 1 Axes>"
            ]
          },
          "metadata": {
            "tags": []
          }
        }
      ]
    },
    {
      "cell_type": "code",
      "metadata": {
        "id": "zqNrlTOFIqeS",
        "colab_type": "code",
        "outputId": "9e7ff10c-9d24-4a93-8b8d-e3b776de6368",
        "colab": {
          "base_uri": "https://localhost:8080/",
          "height": 51
        }
      },
      "source": [
        "# evaluate on test data\n",
        "test_mse , test_mae = model.evaluate(test_data , test_targets) "
      ],
      "execution_count": 0,
      "outputs": [
        {
          "output_type": "stream",
          "text": [
            "102/102 [==============================] - 0s 128us/step\n"
          ],
          "name": "stdout"
        },
        {
          "output_type": "execute_result",
          "data": {
            "text/plain": [
              "[15.233063192928538, 2.5446563328013703]"
            ]
          },
          "metadata": {
            "tags": []
          },
          "execution_count": 39
        }
      ]
    },
    {
      "cell_type": "code",
      "metadata": {
        "id": "vapQjM2BapeU",
        "colab_type": "code",
        "colab": {}
      },
      "source": [
        "test_mae # We are still off $ 2544"
      ],
      "execution_count": 0,
      "outputs": []
    },
    {
      "cell_type": "markdown",
      "metadata": {
        "id": "9OEah4u6Xek_",
        "colab_type": "text"
      },
      "source": [
        "# **Training the final model**"
      ]
    },
    {
      "cell_type": "code",
      "metadata": {
        "id": "CnEw-EqpSNpX",
        "colab_type": "code",
        "outputId": "75018d09-2efe-452c-bea8-8ebe5b5fc386",
        "colab": {
          "base_uri": "https://localhost:8080/",
          "height": 428
        }
      },
      "source": [
        "# Get a fresh compiled model.\n",
        "model = build_model()\n",
        "\n",
        "#Training on Entire Data\n",
        "model.fit(train_data, train_targets, epochs = 80, batch_size = 16, verbose = 0)\n",
        "test_mse_score, test_mae_score = model.evaluate(test_data, test_targets)"
      ],
      "execution_count": 0,
      "outputs": [
        {
          "output_type": "stream",
          "text": [
            "W0227 06:16:17.534657 140690857142144 module_wrapper.py:139] From /usr/local/lib/python2.7/dist-packages/keras/backend/tensorflow_backend.py:517: The name tf.placeholder is deprecated. Please use tf.compat.v1.placeholder instead.\n",
            "\n",
            "W0227 06:16:17.544315 140690857142144 module_wrapper.py:139] From /usr/local/lib/python2.7/dist-packages/keras/backend/tensorflow_backend.py:4138: The name tf.random_uniform is deprecated. Please use tf.random.uniform instead.\n",
            "\n",
            "W0227 06:16:17.569932 140690857142144 module_wrapper.py:139] From /usr/local/lib/python2.7/dist-packages/keras/optimizers.py:790: The name tf.train.Optimizer is deprecated. Please use tf.compat.v1.train.Optimizer instead.\n",
            "\n",
            "W0227 06:16:17.665415 140690857142144 module_wrapper.py:139] From /usr/local/lib/python2.7/dist-packages/keras/backend/tensorflow_backend.py:986: The name tf.assign_add is deprecated. Please use tf.compat.v1.assign_add instead.\n",
            "\n",
            "W0227 06:16:17.671556 140690857142144 module_wrapper.py:139] From /usr/local/lib/python2.7/dist-packages/keras/backend/tensorflow_backend.py:973: The name tf.assign is deprecated. Please use tf.compat.v1.assign instead.\n",
            "\n",
            "W0227 06:16:17.702728 140690857142144 module_wrapper.py:139] From /usr/local/lib/python2.7/dist-packages/keras/backend/tensorflow_backend.py:2741: The name tf.Session is deprecated. Please use tf.compat.v1.Session instead.\n",
            "\n",
            "W0227 06:16:17.708106 140690857142144 module_wrapper.py:139] From /usr/local/lib/python2.7/dist-packages/keras/backend/tensorflow_backend.py:174: The name tf.get_default_session is deprecated. Please use tf.compat.v1.get_default_session instead.\n",
            "\n",
            "W0227 06:16:17.708962 140690857142144 module_wrapper.py:139] From /usr/local/lib/python2.7/dist-packages/keras/backend/tensorflow_backend.py:181: The name tf.ConfigProto is deprecated. Please use tf.compat.v1.ConfigProto instead.\n",
            "\n",
            "W0227 06:16:17.888772 140690857142144 module_wrapper.py:139] From /usr/local/lib/python2.7/dist-packages/keras/backend/tensorflow_backend.py:190: The name tf.global_variables is deprecated. Please use tf.compat.v1.global_variables instead.\n",
            "\n",
            "W0227 06:16:17.890089 140690857142144 module_wrapper.py:139] From /usr/local/lib/python2.7/dist-packages/keras/backend/tensorflow_backend.py:199: The name tf.is_variable_initialized is deprecated. Please use tf.compat.v1.is_variable_initialized instead.\n",
            "\n",
            "W0227 06:16:17.921067 140690857142144 module_wrapper.py:139] From /usr/local/lib/python2.7/dist-packages/keras/backend/tensorflow_backend.py:206: The name tf.variables_initializer is deprecated. Please use tf.compat.v1.variables_initializer instead.\n",
            "\n"
          ],
          "name": "stderr"
        },
        {
          "output_type": "stream",
          "text": [
            "102/102 [==============================] - 0s 265us/step\n"
          ],
          "name": "stdout"
        }
      ]
    },
    {
      "cell_type": "markdown",
      "metadata": {
        "id": "qxknmjGGS094",
        "colab_type": "text"
      },
      "source": [
        "#**Final Result**"
      ]
    },
    {
      "cell_type": "code",
      "metadata": {
        "id": "MMBSlWHmSm9S",
        "colab_type": "code",
        "outputId": "fc7ddbf1-afb7-4039-f242-f3fc61508e34",
        "colab": {
          "base_uri": "https://localhost:8080/",
          "height": 34
        }
      },
      "source": [
        "test_mae_score"
      ],
      "execution_count": 0,
      "outputs": [
        {
          "output_type": "execute_result",
          "data": {
            "text/plain": [
              "4.113408116733327"
            ]
          },
          "metadata": {
            "tags": []
          },
          "execution_count": 5
        }
      ]
    },
    {
      "cell_type": "code",
      "metadata": {
        "id": "CIhxnHFnnQ8N",
        "colab_type": "code",
        "colab": {}
      },
      "source": [
        ""
      ],
      "execution_count": 0,
      "outputs": []
    }
  ]
}